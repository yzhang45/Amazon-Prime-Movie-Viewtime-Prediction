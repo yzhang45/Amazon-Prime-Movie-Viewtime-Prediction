{
  "nbformat": 4,
  "nbformat_minor": 0,
  "metadata": {
    "colab": {
      "name": "“Amazon prime video .ipynb”",
      "provenance": [],
      "collapsed_sections": []
    },
    "kernelspec": {
      "name": "python3",
      "display_name": "Python 3"
    }
  },
  "cells": [
    {
      "cell_type": "markdown",
      "metadata": {
        "id": "3z7sF7gvxTke",
        "colab_type": "text"
      },
      "source": [
        "# Part 0 Load packages, load data\n"
      ]
    },
    {
      "cell_type": "code",
      "metadata": {
        "id": "AfZpbClJ8ljR",
        "colab_type": "code",
        "colab": {
          "base_uri": "https://localhost:8080/",
          "height": 71
        },
        "outputId": "d71a4cea-1b2a-4169-bc2d-b5379f19feef"
      },
      "source": [
        "#import neccessary libraries\n",
        "import numpy as np\n",
        "import pandas as pd\n",
        "import sklearn as sl\n",
        "import sklearn.preprocessing as preprocessing\n",
        "from sklearn.model_selection import train_test_split\n",
        "import seaborn as sns\n",
        "import matplotlib.pyplot as plt\n",
        "pd.set_option('display.float_format', lambda x: '%.3f' % x)\n",
        "pd.set_option('display.max_columns',None)\n",
        "pd.set_option('display.max_rows',None)\n",
        "pd.set_option('max_colwidth',100)\n"
      ],
      "execution_count": 2,
      "outputs": [
        {
          "output_type": "stream",
          "text": [
            "/usr/local/lib/python3.6/dist-packages/statsmodels/tools/_testing.py:19: FutureWarning: pandas.util.testing is deprecated. Use the functions in the public API at pandas.testing instead.\n",
            "  import pandas.util.testing as tm\n"
          ],
          "name": "stderr"
        }
      ]
    },
    {
      "cell_type": "markdown",
      "metadata": {
        "id": "GGdLicFQxSlT",
        "colab_type": "text"
      },
      "source": [
        ""
      ]
    },
    {
      "cell_type": "code",
      "metadata": {
        "id": "dkksVl1cqw3W",
        "colab_type": "code",
        "colab": {
          "resources": {
            "http://localhost:8080/nbextensions/google.colab/files.js": {
              "data": "Ly8gQ29weXJpZ2h0IDIwMTcgR29vZ2xlIExMQwovLwovLyBMaWNlbnNlZCB1bmRlciB0aGUgQXBhY2hlIExpY2Vuc2UsIFZlcnNpb24gMi4wICh0aGUgIkxpY2Vuc2UiKTsKLy8geW91IG1heSBub3QgdXNlIHRoaXMgZmlsZSBleGNlcHQgaW4gY29tcGxpYW5jZSB3aXRoIHRoZSBMaWNlbnNlLgovLyBZb3UgbWF5IG9idGFpbiBhIGNvcHkgb2YgdGhlIExpY2Vuc2UgYXQKLy8KLy8gICAgICBodHRwOi8vd3d3LmFwYWNoZS5vcmcvbGljZW5zZXMvTElDRU5TRS0yLjAKLy8KLy8gVW5sZXNzIHJlcXVpcmVkIGJ5IGFwcGxpY2FibGUgbGF3IG9yIGFncmVlZCB0byBpbiB3cml0aW5nLCBzb2Z0d2FyZQovLyBkaXN0cmlidXRlZCB1bmRlciB0aGUgTGljZW5zZSBpcyBkaXN0cmlidXRlZCBvbiBhbiAiQVMgSVMiIEJBU0lTLAovLyBXSVRIT1VUIFdBUlJBTlRJRVMgT1IgQ09ORElUSU9OUyBPRiBBTlkgS0lORCwgZWl0aGVyIGV4cHJlc3Mgb3IgaW1wbGllZC4KLy8gU2VlIHRoZSBMaWNlbnNlIGZvciB0aGUgc3BlY2lmaWMgbGFuZ3VhZ2UgZ292ZXJuaW5nIHBlcm1pc3Npb25zIGFuZAovLyBsaW1pdGF0aW9ucyB1bmRlciB0aGUgTGljZW5zZS4KCi8qKgogKiBAZmlsZW92ZXJ2aWV3IEhlbHBlcnMgZm9yIGdvb2dsZS5jb2xhYiBQeXRob24gbW9kdWxlLgogKi8KKGZ1bmN0aW9uKHNjb3BlKSB7CmZ1bmN0aW9uIHNwYW4odGV4dCwgc3R5bGVBdHRyaWJ1dGVzID0ge30pIHsKICBjb25zdCBlbGVtZW50ID0gZG9jdW1lbnQuY3JlYXRlRWxlbWVudCgnc3BhbicpOwogIGVsZW1lbnQudGV4dENvbnRlbnQgPSB0ZXh0OwogIGZvciAoY29uc3Qga2V5IG9mIE9iamVjdC5rZXlzKHN0eWxlQXR0cmlidXRlcykpIHsKICAgIGVsZW1lbnQuc3R5bGVba2V5XSA9IHN0eWxlQXR0cmlidXRlc1trZXldOwogIH0KICByZXR1cm4gZWxlbWVudDsKfQoKLy8gTWF4IG51bWJlciBvZiBieXRlcyB3aGljaCB3aWxsIGJlIHVwbG9hZGVkIGF0IGEgdGltZS4KY29uc3QgTUFYX1BBWUxPQURfU0laRSA9IDEwMCAqIDEwMjQ7CgpmdW5jdGlvbiBfdXBsb2FkRmlsZXMoaW5wdXRJZCwgb3V0cHV0SWQpIHsKICBjb25zdCBzdGVwcyA9IHVwbG9hZEZpbGVzU3RlcChpbnB1dElkLCBvdXRwdXRJZCk7CiAgY29uc3Qgb3V0cHV0RWxlbWVudCA9IGRvY3VtZW50LmdldEVsZW1lbnRCeUlkKG91dHB1dElkKTsKICAvLyBDYWNoZSBzdGVwcyBvbiB0aGUgb3V0cHV0RWxlbWVudCB0byBtYWtlIGl0IGF2YWlsYWJsZSBmb3IgdGhlIG5leHQgY2FsbAogIC8vIHRvIHVwbG9hZEZpbGVzQ29udGludWUgZnJvbSBQeXRob24uCiAgb3V0cHV0RWxlbWVudC5zdGVwcyA9IHN0ZXBzOwoKICByZXR1cm4gX3VwbG9hZEZpbGVzQ29udGludWUob3V0cHV0SWQpOwp9CgovLyBUaGlzIGlzIHJvdWdobHkgYW4gYXN5bmMgZ2VuZXJhdG9yIChub3Qgc3VwcG9ydGVkIGluIHRoZSBicm93c2VyIHlldCksCi8vIHdoZXJlIHRoZXJlIGFyZSBtdWx0aXBsZSBhc3luY2hyb25vdXMgc3RlcHMgYW5kIHRoZSBQeXRob24gc2lkZSBpcyBnb2luZwovLyB0byBwb2xsIGZvciBjb21wbGV0aW9uIG9mIGVhY2ggc3RlcC4KLy8gVGhpcyB1c2VzIGEgUHJvbWlzZSB0byBibG9jayB0aGUgcHl0aG9uIHNpZGUgb24gY29tcGxldGlvbiBvZiBlYWNoIHN0ZXAsCi8vIHRoZW4gcGFzc2VzIHRoZSByZXN1bHQgb2YgdGhlIHByZXZpb3VzIHN0ZXAgYXMgdGhlIGlucHV0IHRvIHRoZSBuZXh0IHN0ZXAuCmZ1bmN0aW9uIF91cGxvYWRGaWxlc0NvbnRpbnVlKG91dHB1dElkKSB7CiAgY29uc3Qgb3V0cHV0RWxlbWVudCA9IGRvY3VtZW50LmdldEVsZW1lbnRCeUlkKG91dHB1dElkKTsKICBjb25zdCBzdGVwcyA9IG91dHB1dEVsZW1lbnQuc3RlcHM7CgogIGNvbnN0IG5leHQgPSBzdGVwcy5uZXh0KG91dHB1dEVsZW1lbnQubGFzdFByb21pc2VWYWx1ZSk7CiAgcmV0dXJuIFByb21pc2UucmVzb2x2ZShuZXh0LnZhbHVlLnByb21pc2UpLnRoZW4oKHZhbHVlKSA9PiB7CiAgICAvLyBDYWNoZSB0aGUgbGFzdCBwcm9taXNlIHZhbHVlIHRvIG1ha2UgaXQgYXZhaWxhYmxlIHRvIHRoZSBuZXh0CiAgICAvLyBzdGVwIG9mIHRoZSBnZW5lcmF0b3IuCiAgICBvdXRwdXRFbGVtZW50Lmxhc3RQcm9taXNlVmFsdWUgPSB2YWx1ZTsKICAgIHJldHVybiBuZXh0LnZhbHVlLnJlc3BvbnNlOwogIH0pOwp9CgovKioKICogR2VuZXJhdG9yIGZ1bmN0aW9uIHdoaWNoIGlzIGNhbGxlZCBiZXR3ZWVuIGVhY2ggYXN5bmMgc3RlcCBvZiB0aGUgdXBsb2FkCiAqIHByb2Nlc3MuCiAqIEBwYXJhbSB7c3RyaW5nfSBpbnB1dElkIEVsZW1lbnQgSUQgb2YgdGhlIGlucHV0IGZpbGUgcGlja2VyIGVsZW1lbnQuCiAqIEBwYXJhbSB7c3RyaW5nfSBvdXRwdXRJZCBFbGVtZW50IElEIG9mIHRoZSBvdXRwdXQgZGlzcGxheS4KICogQHJldHVybiB7IUl0ZXJhYmxlPCFPYmplY3Q+fSBJdGVyYWJsZSBvZiBuZXh0IHN0ZXBzLgogKi8KZnVuY3Rpb24qIHVwbG9hZEZpbGVzU3RlcChpbnB1dElkLCBvdXRwdXRJZCkgewogIGNvbnN0IGlucHV0RWxlbWVudCA9IGRvY3VtZW50LmdldEVsZW1lbnRCeUlkKGlucHV0SWQpOwogIGlucHV0RWxlbWVudC5kaXNhYmxlZCA9IGZhbHNlOwoKICBjb25zdCBvdXRwdXRFbGVtZW50ID0gZG9jdW1lbnQuZ2V0RWxlbWVudEJ5SWQob3V0cHV0SWQpOwogIG91dHB1dEVsZW1lbnQuaW5uZXJIVE1MID0gJyc7CgogIGNvbnN0IHBpY2tlZFByb21pc2UgPSBuZXcgUHJvbWlzZSgocmVzb2x2ZSkgPT4gewogICAgaW5wdXRFbGVtZW50LmFkZEV2ZW50TGlzdGVuZXIoJ2NoYW5nZScsIChlKSA9PiB7CiAgICAgIHJlc29sdmUoZS50YXJnZXQuZmlsZXMpOwogICAgfSk7CiAgfSk7CgogIGNvbnN0IGNhbmNlbCA9IGRvY3VtZW50LmNyZWF0ZUVsZW1lbnQoJ2J1dHRvbicpOwogIGlucHV0RWxlbWVudC5wYXJlbnRFbGVtZW50LmFwcGVuZENoaWxkKGNhbmNlbCk7CiAgY2FuY2VsLnRleHRDb250ZW50ID0gJ0NhbmNlbCB1cGxvYWQnOwogIGNvbnN0IGNhbmNlbFByb21pc2UgPSBuZXcgUHJvbWlzZSgocmVzb2x2ZSkgPT4gewogICAgY2FuY2VsLm9uY2xpY2sgPSAoKSA9PiB7CiAgICAgIHJlc29sdmUobnVsbCk7CiAgICB9OwogIH0pOwoKICAvLyBXYWl0IGZvciB0aGUgdXNlciB0byBwaWNrIHRoZSBmaWxlcy4KICBjb25zdCBmaWxlcyA9IHlpZWxkIHsKICAgIHByb21pc2U6IFByb21pc2UucmFjZShbcGlja2VkUHJvbWlzZSwgY2FuY2VsUHJvbWlzZV0pLAogICAgcmVzcG9uc2U6IHsKICAgICAgYWN0aW9uOiAnc3RhcnRpbmcnLAogICAgfQogIH07CgogIGNhbmNlbC5yZW1vdmUoKTsKCiAgLy8gRGlzYWJsZSB0aGUgaW5wdXQgZWxlbWVudCBzaW5jZSBmdXJ0aGVyIHBpY2tzIGFyZSBub3QgYWxsb3dlZC4KICBpbnB1dEVsZW1lbnQuZGlzYWJsZWQgPSB0cnVlOwoKICBpZiAoIWZpbGVzKSB7CiAgICByZXR1cm4gewogICAgICByZXNwb25zZTogewogICAgICAgIGFjdGlvbjogJ2NvbXBsZXRlJywKICAgICAgfQogICAgfTsKICB9CgogIGZvciAoY29uc3QgZmlsZSBvZiBmaWxlcykgewogICAgY29uc3QgbGkgPSBkb2N1bWVudC5jcmVhdGVFbGVtZW50KCdsaScpOwogICAgbGkuYXBwZW5kKHNwYW4oZmlsZS5uYW1lLCB7Zm9udFdlaWdodDogJ2JvbGQnfSkpOwogICAgbGkuYXBwZW5kKHNwYW4oCiAgICAgICAgYCgke2ZpbGUudHlwZSB8fCAnbi9hJ30pIC0gJHtmaWxlLnNpemV9IGJ5dGVzLCBgICsKICAgICAgICBgbGFzdCBtb2RpZmllZDogJHsKICAgICAgICAgICAgZmlsZS5sYXN0TW9kaWZpZWREYXRlID8gZmlsZS5sYXN0TW9kaWZpZWREYXRlLnRvTG9jYWxlRGF0ZVN0cmluZygpIDoKICAgICAgICAgICAgICAgICAgICAgICAgICAgICAgICAgICAgJ24vYSd9IC0gYCkpOwogICAgY29uc3QgcGVyY2VudCA9IHNwYW4oJzAlIGRvbmUnKTsKICAgIGxpLmFwcGVuZENoaWxkKHBlcmNlbnQpOwoKICAgIG91dHB1dEVsZW1lbnQuYXBwZW5kQ2hpbGQobGkpOwoKICAgIGNvbnN0IGZpbGVEYXRhUHJvbWlzZSA9IG5ldyBQcm9taXNlKChyZXNvbHZlKSA9PiB7CiAgICAgIGNvbnN0IHJlYWRlciA9IG5ldyBGaWxlUmVhZGVyKCk7CiAgICAgIHJlYWRlci5vbmxvYWQgPSAoZSkgPT4gewogICAgICAgIHJlc29sdmUoZS50YXJnZXQucmVzdWx0KTsKICAgICAgfTsKICAgICAgcmVhZGVyLnJlYWRBc0FycmF5QnVmZmVyKGZpbGUpOwogICAgfSk7CiAgICAvLyBXYWl0IGZvciB0aGUgZGF0YSB0byBiZSByZWFkeS4KICAgIGxldCBmaWxlRGF0YSA9IHlpZWxkIHsKICAgICAgcHJvbWlzZTogZmlsZURhdGFQcm9taXNlLAogICAgICByZXNwb25zZTogewogICAgICAgIGFjdGlvbjogJ2NvbnRpbnVlJywKICAgICAgfQogICAgfTsKCiAgICAvLyBVc2UgYSBjaHVua2VkIHNlbmRpbmcgdG8gYXZvaWQgbWVzc2FnZSBzaXplIGxpbWl0cy4gU2VlIGIvNjIxMTU2NjAuCiAgICBsZXQgcG9zaXRpb24gPSAwOwogICAgd2hpbGUgKHBvc2l0aW9uIDwgZmlsZURhdGEuYnl0ZUxlbmd0aCkgewogICAgICBjb25zdCBsZW5ndGggPSBNYXRoLm1pbihmaWxlRGF0YS5ieXRlTGVuZ3RoIC0gcG9zaXRpb24sIE1BWF9QQVlMT0FEX1NJWkUpOwogICAgICBjb25zdCBjaHVuayA9IG5ldyBVaW50OEFycmF5KGZpbGVEYXRhLCBwb3NpdGlvbiwgbGVuZ3RoKTsKICAgICAgcG9zaXRpb24gKz0gbGVuZ3RoOwoKICAgICAgY29uc3QgYmFzZTY0ID0gYnRvYShTdHJpbmcuZnJvbUNoYXJDb2RlLmFwcGx5KG51bGwsIGNodW5rKSk7CiAgICAgIHlpZWxkIHsKICAgICAgICByZXNwb25zZTogewogICAgICAgICAgYWN0aW9uOiAnYXBwZW5kJywKICAgICAgICAgIGZpbGU6IGZpbGUubmFtZSwKICAgICAgICAgIGRhdGE6IGJhc2U2NCwKICAgICAgICB9LAogICAgICB9OwogICAgICBwZXJjZW50LnRleHRDb250ZW50ID0KICAgICAgICAgIGAke01hdGgucm91bmQoKHBvc2l0aW9uIC8gZmlsZURhdGEuYnl0ZUxlbmd0aCkgKiAxMDApfSUgZG9uZWA7CiAgICB9CiAgfQoKICAvLyBBbGwgZG9uZS4KICB5aWVsZCB7CiAgICByZXNwb25zZTogewogICAgICBhY3Rpb246ICdjb21wbGV0ZScsCiAgICB9CiAgfTsKfQoKc2NvcGUuZ29vZ2xlID0gc2NvcGUuZ29vZ2xlIHx8IHt9OwpzY29wZS5nb29nbGUuY29sYWIgPSBzY29wZS5nb29nbGUuY29sYWIgfHwge307CnNjb3BlLmdvb2dsZS5jb2xhYi5fZmlsZXMgPSB7CiAgX3VwbG9hZEZpbGVzLAogIF91cGxvYWRGaWxlc0NvbnRpbnVlLAp9Owp9KShzZWxmKTsK",
              "ok": true,
              "headers": [
                [
                  "content-type",
                  "application/javascript"
                ]
              ],
              "status": 200,
              "status_text": ""
            }
          },
          "base_uri": "https://localhost:8080/",
          "height": 72
        },
        "outputId": "b2dc799e-5548-41ff-9334-6e0ac7a3803b"
      },
      "source": [
        "from google.colab import files\n",
        "uploaded = files.upload()"
      ],
      "execution_count": 3,
      "outputs": [
        {
          "output_type": "display_data",
          "data": {
            "text/html": [
              "\n",
              "     <input type=\"file\" id=\"files-694bc779-7961-4908-bbae-7c18846eb5f9\" name=\"files[]\" multiple disabled\n",
              "        style=\"border:none\" />\n",
              "     <output id=\"result-694bc779-7961-4908-bbae-7c18846eb5f9\">\n",
              "      Upload widget is only available when the cell has been executed in the\n",
              "      current browser session. Please rerun this cell to enable.\n",
              "      </output>\n",
              "      <script src=\"/nbextensions/google.colab/files.js\"></script> "
            ],
            "text/plain": [
              "<IPython.core.display.HTML object>"
            ]
          },
          "metadata": {
            "tags": []
          }
        },
        {
          "output_type": "stream",
          "text": [
            "Saving TVdata.txt to TVdata.txt\n"
          ],
          "name": "stdout"
        }
      ]
    },
    {
      "cell_type": "code",
      "metadata": {
        "id": "-wJBauQaI6QZ",
        "colab_type": "code",
        "colab": {
          "base_uri": "https://localhost:8080/",
          "height": 595
        },
        "outputId": "8d55871d-373e-4a7e-d073-9f1ef900b2fa"
      },
      "source": [
        "TV=pd.read_table('TVdata.txt',header=0,sep=',',lineterminator='\\n')\n",
        "print(TV.head())"
      ],
      "execution_count": 4,
      "outputs": [
        {
          "output_type": "stream",
          "text": [
            "   video_id  cvt_per_day  weighted_categorical_position  \\\n",
            "0    385504   307127.606                              1   \n",
            "1    300175   270338.426                              1   \n",
            "2    361899   256165.867                              1   \n",
            "3    308314   196622.721                              3   \n",
            "4    307201   159841.652                              1   \n",
            "\n",
            "   weighted_horizontal_poition  import_id  release_year  \\\n",
            "0                            3  lionsgate          2013   \n",
            "1                            3  lionsgate          2013   \n",
            "2                            3      other          2012   \n",
            "3                            4  lionsgate          2008   \n",
            "4                            3  lionsgate          2013   \n",
            "\n",
            "                                          genres  imdb_votes    budget  \\\n",
            "0                          Action,Thriller,Drama       69614  15000000   \n",
            "1                          Comedy,Crime,Thriller       46705  15000000   \n",
            "2                                    Crime,Drama      197596  26000000   \n",
            "3  Thriller,Drama,War,Documentary,Mystery,Action      356339  15000000   \n",
            "4             Crime,Thriller,Mystery,Documentary       46720  27220000   \n",
            "\n",
            "   boxoffice  imdb_rating  duration_in_mins  metacritic_score       awards  \\\n",
            "0   42930462        6.500           112.301                51  other award   \n",
            "1    3301046        6.500            94.983                41     no award   \n",
            "2   37397291        7.300           115.764                58  other award   \n",
            "3   15700000        7.600           130.704                94        Oscar   \n",
            "4    8551228        6.400           105.546                37  other award   \n",
            "\n",
            "    mpaa  star_category  \n",
            "0  PG-13          1.710  \n",
            "1      R          3.250  \n",
            "2      R          2.647  \n",
            "3      R          1.667  \n",
            "4      R          3.067  \n"
          ],
          "name": "stdout"
        }
      ]
    },
    {
      "cell_type": "markdown",
      "metadata": {
        "id": "3ES81w8WA2Wk",
        "colab_type": "text"
      },
      "source": [
        "# Part 1: Data Exploration"
      ]
    },
    {
      "cell_type": "markdown",
      "metadata": {
        "id": "CDv2MT3gBO70",
        "colab_type": "text"
      },
      "source": [
        "## 1.1 Exclude erroneous data"
      ]
    },
    {
      "cell_type": "markdown",
      "metadata": {
        "id": "vDXp_OnZyRn6",
        "colab_type": "text"
      },
      "source": [
        "Each video should only appear once in the list, duplicated video will be removed."
      ]
    },
    {
      "cell_type": "code",
      "metadata": {
        "id": "oyum-AqDATd3",
        "colab_type": "code",
        "colab": {
          "base_uri": "https://localhost:8080/",
          "height": 34
        },
        "outputId": "20b44917-9b74-4f02-ef12-cde47346a5da"
      },
      "source": [
        "if TV['video_id'].duplicated().sum()==0:\n",
        "  print('no duplicated index')"
      ],
      "execution_count": 5,
      "outputs": [
        {
          "output_type": "stream",
          "text": [
            "no duplicated index\n"
          ],
          "name": "stdout"
        }
      ]
    },
    {
      "cell_type": "markdown",
      "metadata": {
        "id": "v-N2W8E1ybr2",
        "colab_type": "text"
      },
      "source": [
        "## 1.2 Understand numerical features"
      ]
    },
    {
      "cell_type": "markdown",
      "metadata": {
        "id": "i6DmON1TyoYw",
        "colab_type": "text"
      },
      "source": [
        "### 1.2.1 Overview"
      ]
    },
    {
      "cell_type": "code",
      "metadata": {
        "id": "CJcon31EF26u",
        "colab_type": "code",
        "colab": {
          "base_uri": "https://localhost:8080/",
          "height": 1000
        },
        "outputId": "f961aa68-a347-46d0-b940-ef2cba94b105"
      },
      "source": [
        "TV.info()\n",
        "print(TV.drop(columns=['video_id','release_year'],axis=1).describe(percentiles=[0.1,0.25,0.5,0.75,0.95]))\n",
        "(TV==0).sum(axis=0)/TV.shape[0]"
      ],
      "execution_count": 6,
      "outputs": [
        {
          "output_type": "stream",
          "text": [
            "<class 'pandas.core.frame.DataFrame'>\n",
            "RangeIndex: 4226 entries, 0 to 4225\n",
            "Data columns (total 16 columns):\n",
            " #   Column                         Non-Null Count  Dtype  \n",
            "---  ------                         --------------  -----  \n",
            " 0   video_id                       4226 non-null   int64  \n",
            " 1   cvt_per_day                    4226 non-null   float64\n",
            " 2   weighted_categorical_position  4226 non-null   int64  \n",
            " 3   weighted_horizontal_poition    4226 non-null   int64  \n",
            " 4   import_id                      4226 non-null   object \n",
            " 5   release_year                   4226 non-null   int64  \n",
            " 6   genres                         4226 non-null   object \n",
            " 7   imdb_votes                     4226 non-null   int64  \n",
            " 8   budget                         4226 non-null   int64  \n",
            " 9   boxoffice                      4226 non-null   int64  \n",
            " 10  imdb_rating                    4226 non-null   float64\n",
            " 11  duration_in_mins               4226 non-null   float64\n",
            " 12  metacritic_score               4226 non-null   int64  \n",
            " 13  awards                         4226 non-null   object \n",
            " 14  mpaa                           4226 non-null   object \n",
            " 15  star_category                  4226 non-null   float64\n",
            "dtypes: float64(4), int64(8), object(4)\n",
            "memory usage: 528.4+ KB\n",
            "       cvt_per_day  weighted_categorical_position  \\\n",
            "count     4226.000                       4226.000   \n",
            "mean      4218.630                          7.783   \n",
            "std      13036.080                          6.134   \n",
            "min          2.188                          1.000   \n",
            "10%        141.985                          3.000   \n",
            "25%        351.169                          4.000   \n",
            "50%       1193.500                          6.000   \n",
            "75%       3356.789                          9.000   \n",
            "95%      14692.834                         22.000   \n",
            "max     307127.606                         41.000   \n",
            "\n",
            "       weighted_horizontal_poition  imdb_votes        budget     boxoffice  \\\n",
            "count                     4226.000    4226.000      4226.000      4226.000   \n",
            "mean                        28.104    6462.924   2150743.439   2536338.472   \n",
            "std                         11.864   31596.007   7176604.483   8243516.266   \n",
            "min                          1.000       0.000         0.000         0.000   \n",
            "10%                         13.000       8.000         0.000         0.000   \n",
            "25%                         20.000      81.000         0.000         0.000   \n",
            "50%                         28.000     535.000         0.000         0.000   \n",
            "75%                         36.000    3053.000   1500000.000         0.000   \n",
            "95%                         48.000   26199.500  12000000.000   8551228.000   \n",
            "max                         70.000  948630.000 107000000.000 184208848.000   \n",
            "\n",
            "       imdb_rating  duration_in_mins  metacritic_score  star_category  \n",
            "count     4226.000          4226.000          4226.000       4226.000  \n",
            "mean         5.257            89.556            15.974          0.955  \n",
            "std          2.123            21.086            26.205          0.955  \n",
            "min          0.000             4.037             0.000          0.000  \n",
            "10%          2.300            62.391             0.000          0.000  \n",
            "25%          4.300            82.602             0.000          0.000  \n",
            "50%          5.800            90.730             0.000          1.000  \n",
            "75%          6.800            99.500            41.000          1.667  \n",
            "95%          7.800           119.131            65.000          2.597  \n",
            "max         10.000           246.017           100.000          4.000  \n"
          ],
          "name": "stdout"
        },
        {
          "output_type": "execute_result",
          "data": {
            "text/plain": [
              "video_id                        0.000\n",
              "cvt_per_day                     0.000\n",
              "weighted_categorical_position   0.000\n",
              "weighted_horizontal_poition     0.000\n",
              "import_id                       0.000\n",
              "release_year                    0.000\n",
              "genres                          0.000\n",
              "imdb_votes                      0.081\n",
              "budget                          0.581\n",
              "boxoffice                       0.756\n",
              "imdb_rating                     0.081\n",
              "duration_in_mins                0.000\n",
              "metacritic_score                0.713\n",
              "awards                          0.000\n",
              "mpaa                            0.000\n",
              "star_category                   0.437\n",
              "dtype: float64"
            ]
          },
          "metadata": {
            "tags": []
          },
          "execution_count": 6
        }
      ]
    },
    {
      "cell_type": "markdown",
      "metadata": {
        "id": "spQmT1ZHyjVe",
        "colab_type": "text"
      },
      "source": [
        "### 1.2.2 cvt_per_day feature"
      ]
    },
    {
      "cell_type": "code",
      "metadata": {
        "id": "e-BkewHWZEYa",
        "colab_type": "code",
        "colab": {
          "base_uri": "https://localhost:8080/",
          "height": 296
        },
        "outputId": "7c99c58b-7db7-45a8-c394-4d9af37d1ddd"
      },
      "source": [
        "plt.hist(TV['cvt_per_day'],bins=range(0,15000,30),color='r',label='cvt_per_day',density=True,alpha=0.5)\n",
        "plt.title('Historgrams of cvt_per_day before data processing')\n",
        "plt.legend(loc='upper right')\n",
        "plt.xlabel('cvt_per_day')\n",
        "plt.ylabel('density')\n",
        "plt.show()"
      ],
      "execution_count": 7,
      "outputs": [
        {
          "output_type": "display_data",
          "data": {
            "image/png": "[encoded data removed]",
            "text/plain": [
              "<Figure size 432x288 with 1 Axes>"
            ]
          },
          "metadata": {
            "tags": [],
            "needs_background": "light"
          }
        }
      ]
    },
    {
      "cell_type": "markdown",
      "metadata": {
        "id": "my0LY0Wf0CGb",
        "colab_type": "text"
      },
      "source": [
        "### 1.2.3 Correlation among numerical features"
      ]
    },
    {
      "cell_type": "code",
      "metadata": {
        "id": "oSBeyIiGfLA8",
        "colab_type": "code",
        "colab": {
          "base_uri": "https://localhost:8080/",
          "height": 428
        },
        "outputId": "20d9107b-6c30-4f40-b044-620107e9cc63"
      },
      "source": [
        "corr = TV[['cvt_per_day','weighted_categorical_position','weighted_horizontal_poition'\n",
        "               ,'release_year', 'imdb_votes', 'budget', 'boxoffice' ,'imdb_rating', \n",
        "               'duration_in_mins', 'metacritic_score', 'star_category']].corr()\n",
        "\n",
        "sns.heatmap(corr, cmap=\"YlGnBu\")"
      ],
      "execution_count": 8,
      "outputs": [
        {
          "output_type": "execute_result",
          "data": {
            "text/plain": [
              "<matplotlib.axes._subplots.AxesSubplot at 0x7f8f8e9ac2b0>"
            ]
          },
          "metadata": {
            "tags": []
          },
          "execution_count": 8
        },
        {
          "output_type": "display_data",
          "data": {
            "image/png": "[encoded data removed]",
            "text/plain": [
              "<Figure size 432x288 with 2 Axes>"
            ]
          },
          "metadata": {
            "tags": [],
            "needs_background": "light"
          }
        }
      ]
    },
    {
      "cell_type": "code",
      "metadata": {
        "id": "zKOrme5yfSwc",
        "colab_type": "code",
        "colab": {
          "base_uri": "https://localhost:8080/",
          "height": 410
        },
        "outputId": "40695c93-e558-47f3-cea0-6a430829dda8"
      },
      "source": [
        "corr"
      ],
      "execution_count": 9,
      "outputs": [
        {
          "output_type": "execute_result",
          "data": {
            "text/html": [
              "<div>\n",
              "<style scoped>\n",
              "    .dataframe tbody tr th:only-of-type {\n",
              "        vertical-align: middle;\n",
              "    }\n",
              "\n",
              "    .dataframe tbody tr th {\n",
              "        vertical-align: top;\n",
              "    }\n",
              "\n",
              "    .dataframe thead th {\n",
              "        text-align: right;\n",
              "    }\n",
              "</style>\n",
              "<table border=\"1\" class=\"dataframe\">\n",
              "  <thead>\n",
              "    <tr style=\"text-align: right;\">\n",
              "      <th></th>\n",
              "      <th>cvt_per_day</th>\n",
              "      <th>weighted_categorical_position</th>\n",
              "      <th>weighted_horizontal_poition</th>\n",
              "      <th>release_year</th>\n",
              "      <th>imdb_votes</th>\n",
              "      <th>budget</th>\n",
              "      <th>boxoffice</th>\n",
              "      <th>imdb_rating</th>\n",
              "      <th>duration_in_mins</th>\n",
              "      <th>metacritic_score</th>\n",
              "      <th>star_category</th>\n",
              "    </tr>\n",
              "  </thead>\n",
              "  <tbody>\n",
              "    <tr>\n",
              "      <th>cvt_per_day</th>\n",
              "      <td>1.000</td>\n",
              "      <td>-0.148</td>\n",
              "      <td>-0.302</td>\n",
              "      <td>0.046</td>\n",
              "      <td>0.298</td>\n",
              "      <td>0.316</td>\n",
              "      <td>0.312</td>\n",
              "      <td>0.059</td>\n",
              "      <td>0.152</td>\n",
              "      <td>0.249</td>\n",
              "      <td>0.247</td>\n",
              "    </tr>\n",
              "    <tr>\n",
              "      <th>weighted_categorical_position</th>\n",
              "      <td>-0.148</td>\n",
              "      <td>1.000</td>\n",
              "      <td>-0.084</td>\n",
              "      <td>-0.069</td>\n",
              "      <td>-0.064</td>\n",
              "      <td>-0.090</td>\n",
              "      <td>-0.074</td>\n",
              "      <td>-0.116</td>\n",
              "      <td>-0.174</td>\n",
              "      <td>-0.044</td>\n",
              "      <td>-0.123</td>\n",
              "    </tr>\n",
              "    <tr>\n",
              "      <th>weighted_horizontal_poition</th>\n",
              "      <td>-0.302</td>\n",
              "      <td>-0.084</td>\n",
              "      <td>1.000</td>\n",
              "      <td>0.027</td>\n",
              "      <td>-0.221</td>\n",
              "      <td>-0.211</td>\n",
              "      <td>-0.245</td>\n",
              "      <td>-0.162</td>\n",
              "      <td>-0.102</td>\n",
              "      <td>-0.255</td>\n",
              "      <td>-0.168</td>\n",
              "    </tr>\n",
              "    <tr>\n",
              "      <th>release_year</th>\n",
              "      <td>0.046</td>\n",
              "      <td>-0.069</td>\n",
              "      <td>0.027</td>\n",
              "      <td>1.000</td>\n",
              "      <td>-0.083</td>\n",
              "      <td>-0.040</td>\n",
              "      <td>-0.128</td>\n",
              "      <td>-0.199</td>\n",
              "      <td>-0.097</td>\n",
              "      <td>-0.167</td>\n",
              "      <td>-0.198</td>\n",
              "    </tr>\n",
              "    <tr>\n",
              "      <th>imdb_votes</th>\n",
              "      <td>0.298</td>\n",
              "      <td>-0.064</td>\n",
              "      <td>-0.221</td>\n",
              "      <td>-0.083</td>\n",
              "      <td>1.000</td>\n",
              "      <td>0.273</td>\n",
              "      <td>0.531</td>\n",
              "      <td>0.163</td>\n",
              "      <td>0.156</td>\n",
              "      <td>0.322</td>\n",
              "      <td>0.225</td>\n",
              "    </tr>\n",
              "    <tr>\n",
              "      <th>budget</th>\n",
              "      <td>0.316</td>\n",
              "      <td>-0.090</td>\n",
              "      <td>-0.211</td>\n",
              "      <td>-0.040</td>\n",
              "      <td>0.273</td>\n",
              "      <td>1.000</td>\n",
              "      <td>0.505</td>\n",
              "      <td>0.106</td>\n",
              "      <td>0.251</td>\n",
              "      <td>0.315</td>\n",
              "      <td>0.322</td>\n",
              "    </tr>\n",
              "    <tr>\n",
              "      <th>boxoffice</th>\n",
              "      <td>0.312</td>\n",
              "      <td>-0.074</td>\n",
              "      <td>-0.245</td>\n",
              "      <td>-0.128</td>\n",
              "      <td>0.531</td>\n",
              "      <td>0.505</td>\n",
              "      <td>1.000</td>\n",
              "      <td>0.164</td>\n",
              "      <td>0.226</td>\n",
              "      <td>0.465</td>\n",
              "      <td>0.322</td>\n",
              "    </tr>\n",
              "    <tr>\n",
              "      <th>imdb_rating</th>\n",
              "      <td>0.059</td>\n",
              "      <td>-0.116</td>\n",
              "      <td>-0.162</td>\n",
              "      <td>-0.199</td>\n",
              "      <td>0.163</td>\n",
              "      <td>0.106</td>\n",
              "      <td>0.164</td>\n",
              "      <td>1.000</td>\n",
              "      <td>0.344</td>\n",
              "      <td>0.347</td>\n",
              "      <td>0.192</td>\n",
              "    </tr>\n",
              "    <tr>\n",
              "      <th>duration_in_mins</th>\n",
              "      <td>0.152</td>\n",
              "      <td>-0.174</td>\n",
              "      <td>-0.102</td>\n",
              "      <td>-0.097</td>\n",
              "      <td>0.156</td>\n",
              "      <td>0.251</td>\n",
              "      <td>0.226</td>\n",
              "      <td>0.344</td>\n",
              "      <td>1.000</td>\n",
              "      <td>0.327</td>\n",
              "      <td>0.309</td>\n",
              "    </tr>\n",
              "    <tr>\n",
              "      <th>metacritic_score</th>\n",
              "      <td>0.249</td>\n",
              "      <td>-0.044</td>\n",
              "      <td>-0.255</td>\n",
              "      <td>-0.167</td>\n",
              "      <td>0.322</td>\n",
              "      <td>0.315</td>\n",
              "      <td>0.465</td>\n",
              "      <td>0.347</td>\n",
              "      <td>0.327</td>\n",
              "      <td>1.000</td>\n",
              "      <td>0.452</td>\n",
              "    </tr>\n",
              "    <tr>\n",
              "      <th>star_category</th>\n",
              "      <td>0.247</td>\n",
              "      <td>-0.123</td>\n",
              "      <td>-0.168</td>\n",
              "      <td>-0.198</td>\n",
              "      <td>0.225</td>\n",
              "      <td>0.322</td>\n",
              "      <td>0.322</td>\n",
              "      <td>0.192</td>\n",
              "      <td>0.309</td>\n",
              "      <td>0.452</td>\n",
              "      <td>1.000</td>\n",
              "    </tr>\n",
              "  </tbody>\n",
              "</table>\n",
              "</div>"
            ],
            "text/plain": [
              "                               cvt_per_day  weighted_categorical_position  \\\n",
              "cvt_per_day                          1.000                         -0.148   \n",
              "weighted_categorical_position       -0.148                          1.000   \n",
              "weighted_horizontal_poition         -0.302                         -0.084   \n",
              "release_year                         0.046                         -0.069   \n",
              "imdb_votes                           0.298                         -0.064   \n",
              "budget                               0.316                         -0.090   \n",
              "boxoffice                            0.312                         -0.074   \n",
              "imdb_rating                          0.059                         -0.116   \n",
              "duration_in_mins                     0.152                         -0.174   \n",
              "metacritic_score                     0.249                         -0.044   \n",
              "star_category                        0.247                         -0.123   \n",
              "\n",
              "                               weighted_horizontal_poition  release_year  \\\n",
              "cvt_per_day                                         -0.302         0.046   \n",
              "weighted_categorical_position                       -0.084        -0.069   \n",
              "weighted_horizontal_poition                          1.000         0.027   \n",
              "release_year                                         0.027         1.000   \n",
              "imdb_votes                                          -0.221        -0.083   \n",
              "budget                                              -0.211        -0.040   \n",
              "boxoffice                                           -0.245        -0.128   \n",
              "imdb_rating                                         -0.162        -0.199   \n",
              "duration_in_mins                                    -0.102        -0.097   \n",
              "metacritic_score                                    -0.255        -0.167   \n",
              "star_category                                       -0.168        -0.198   \n",
              "\n",
              "                               imdb_votes  budget  boxoffice  imdb_rating  \\\n",
              "cvt_per_day                         0.298   0.316      0.312        0.059   \n",
              "weighted_categorical_position      -0.064  -0.090     -0.074       -0.116   \n",
              "weighted_horizontal_poition        -0.221  -0.211     -0.245       -0.162   \n",
              "release_year                       -0.083  -0.040     -0.128       -0.199   \n",
              "imdb_votes                          1.000   0.273      0.531        0.163   \n",
              "budget                              0.273   1.000      0.505        0.106   \n",
              "boxoffice                           0.531   0.505      1.000        0.164   \n",
              "imdb_rating                         0.163   0.106      0.164        1.000   \n",
              "duration_in_mins                    0.156   0.251      0.226        0.344   \n",
              "metacritic_score                    0.322   0.315      0.465        0.347   \n",
              "star_category                       0.225   0.322      0.322        0.192   \n",
              "\n",
              "                               duration_in_mins  metacritic_score  \\\n",
              "cvt_per_day                               0.152             0.249   \n",
              "weighted_categorical_position            -0.174            -0.044   \n",
              "weighted_horizontal_poition              -0.102            -0.255   \n",
              "release_year                             -0.097            -0.167   \n",
              "imdb_votes                                0.156             0.322   \n",
              "budget                                    0.251             0.315   \n",
              "boxoffice                                 0.226             0.465   \n",
              "imdb_rating                               0.344             0.347   \n",
              "duration_in_mins                          1.000             0.327   \n",
              "metacritic_score                          0.327             1.000   \n",
              "star_category                             0.309             0.452   \n",
              "\n",
              "                               star_category  \n",
              "cvt_per_day                            0.247  \n",
              "weighted_categorical_position         -0.123  \n",
              "weighted_horizontal_poition           -0.168  \n",
              "release_year                          -0.198  \n",
              "imdb_votes                             0.225  \n",
              "budget                                 0.322  \n",
              "boxoffice                              0.322  \n",
              "imdb_rating                            0.192  \n",
              "duration_in_mins                       0.309  \n",
              "metacritic_score                       0.452  \n",
              "star_category                          1.000  "
            ]
          },
          "metadata": {
            "tags": []
          },
          "execution_count": 9
        }
      ]
    },
    {
      "cell_type": "markdown",
      "metadata": {
        "id": "fVUMUbzs0UrM",
        "colab_type": "text"
      },
      "source": [
        "## 1.3 Understand categorical features"
      ]
    },
    {
      "cell_type": "markdown",
      "metadata": {
        "id": "kFWDC_kmieQX",
        "colab_type": "text"
      },
      "source": [
        "### 1.3.1 Distribution of standard categorical features"
      ]
    },
    {
      "cell_type": "code",
      "metadata": {
        "id": "U5Q7QppFfW4P",
        "colab_type": "code",
        "colab": {
          "base_uri": "https://localhost:8080/",
          "height": 1000
        },
        "outputId": "59ff1f6f-10f1-4508-8f6a-0e18a4f62431"
      },
      "source": [
        "sns.stripplot(x='import_id', y='cvt_per_day', data=TV,jitter=True)\n",
        "plt.show()\n",
        "print(TV['import_id'].value_counts())\n",
        "\n",
        "sns.stripplot(x='mpaa', y='cvt_per_day', data=TV,jitter=True)\n",
        "plt.show()\n",
        "print(TV['mpaa'].value_counts())\n",
        "\n",
        "sns.stripplot(x='awards', y='cvt_per_day', data=TV, jitter=True)\n",
        "plt.show()\n",
        "print(TV['awards'].value_counts())"
      ],
      "execution_count": 10,
      "outputs": [
        {
          "output_type": "display_data",
          "data": {
            "image/png": "[encoded data removed]",
            "text/plain": [
              "<Figure size 432x288 with 1 Axes>"
            ]
          },
          "metadata": {
            "tags": [],
            "needs_background": "light"
          }
        },
        {
          "output_type": "stream",
          "text": [
            "other        2963\n",
            "lionsgate     677\n",
            "mgm           445\n",
            "paramount     141\n",
            "Name: import_id, dtype: int64\n"
          ],
          "name": "stdout"
        },
        {
          "output_type": "display_data",
          "data": {
            "image/png": "[encoded data removed]",
            "text/plain": [
              "<Figure size 432x288 with 1 Axes>"
            ]
          },
          "metadata": {
            "tags": [],
            "needs_background": "light"
          }
        },
        {
          "output_type": "stream",
          "text": [
            "NotRated    2158\n",
            "R           1158\n",
            "PG-13        426\n",
            "PG           353\n",
            "G            125\n",
            "NC-17          6\n",
            "Name: mpaa, dtype: int64\n"
          ],
          "name": "stdout"
        },
        {
          "output_type": "display_data",
          "data": {
            "image/png": "[encoded data removed]",
            "text/plain": [
              "<Figure size 432x288 with 1 Axes>"
            ]
          },
          "metadata": {
            "tags": [],
            "needs_background": "light"
          }
        },
        {
          "output_type": "stream",
          "text": [
            "no award        2569\n",
            "other award     1453\n",
            "Oscar            141\n",
            "Golden Globe      44\n",
            "BAFTA             19\n",
            "Name: awards, dtype: int64\n"
          ],
          "name": "stdout"
        }
      ]
    },
    {
      "cell_type": "markdown",
      "metadata": {
        "id": "fd1SnNRGDshS",
        "colab_type": "text"
      },
      "source": [
        "After very basic Exploratory Data Analysis, we have to do some data cleaning and data preprocessing.\n",
        "We need three steps to finish  this.\n",
        "First, we need to encode the categorical feature.\n",
        "Second, we need to impute the missing value for both numeric and categorical feature.\n",
        "Third, we need to scale out feature, which can be better for our models' performance.\n",
        "\n"
      ]
    },
    {
      "cell_type": "markdown",
      "metadata": {
        "id": "4HU4Kd_l0lmt",
        "colab_type": "text"
      },
      "source": [
        "### 1.3.2 Distribution of splited genres"
      ]
    },
    {
      "cell_type": "markdown",
      "metadata": {
        "id": "6p0LW_6K0xpj",
        "colab_type": "text"
      },
      "source": [
        "Some videos belongs to more than 1 genre, the genre of each video is splited, this would help emphasize the effect of each individual genre."
      ]
    },
    {
      "cell_type": "code",
      "metadata": {
        "id": "I0RXWm-bhlpq",
        "colab_type": "code",
        "colab": {
          "base_uri": "https://localhost:8080/",
          "height": 853
        },
        "outputId": "b604faae-c84b-428d-a306-4785c1199f5f"
      },
      "source": [
        "# generes explore, split the genre of each video\n",
        "gen_split = TV['genres'].str.get_dummies(sep=',').sum()\n",
        "print(gen_split)\n",
        "\n",
        "gen_split.sort_values(ascending=False).plot.bar()"
      ],
      "execution_count": 11,
      "outputs": [
        {
          "output_type": "stream",
          "text": [
            "Action                    739\n",
            "Adult                       3\n",
            "Adventure                 363\n",
            "Animation                 129\n",
            "Anime                      11\n",
            "Comedy                   1184\n",
            "Crime                     437\n",
            "Documentary               671\n",
            "Drama                    1677\n",
            "Fantasy                   243\n",
            "Foreign/International      64\n",
            "Holiday                     1\n",
            "Horror                    762\n",
            "Independent               393\n",
            "Kids & Family             280\n",
            "LGBT                        2\n",
            "Lifestyle                   7\n",
            "Music                     171\n",
            "Musicals                   68\n",
            "Mystery                   375\n",
            "Reality                     9\n",
            "Romance                   591\n",
            "Sci-Fi                    363\n",
            "Sport                      77\n",
            "Thriller                  879\n",
            "War                       102\n",
            "Western                   102\n",
            "dtype: int64\n"
          ],
          "name": "stdout"
        },
        {
          "output_type": "execute_result",
          "data": {
            "text/plain": [
              "<matplotlib.axes._subplots.AxesSubplot at 0x7f8f8babe978>"
            ]
          },
          "metadata": {
            "tags": []
          },
          "execution_count": 11
        },
        {
          "output_type": "display_data",
          "data": {
            "image/png": "[encoded data removed]",
            "text/plain": [
              "<Figure size 432x288 with 1 Axes>"
            ]
          },
          "metadata": {
            "tags": [],
            "needs_background": "light"
          }
        }
      ]
    },
    {
      "cell_type": "markdown",
      "metadata": {
        "id": "f4DpGwy900nG",
        "colab_type": "text"
      },
      "source": [
        "### 1.3.3 Distribution of release_year"
      ]
    },
    {
      "cell_type": "markdown",
      "metadata": {
        "id": "WtiAH_7m00tJ",
        "colab_type": "text"
      },
      "source": [
        "The release year of video varies through a wide range. Considering the popularity of a video usually decays over time, the release_year should be bucketed based on the release_year range."
      ]
    },
    {
      "cell_type": "code",
      "metadata": {
        "id": "2zC-7REjisJ1",
        "colab_type": "code",
        "colab": {
          "base_uri": "https://localhost:8080/",
          "height": 296
        },
        "outputId": "5c438d89-74f8-40fd-bcc3-94b6b0e1904d"
      },
      "source": [
        "plt.hist(TV['release_year'].values, bins = range(1910, 2017, 1), alpha = 0.5, color='r', label = 'release_year')\n",
        "plt.legend(loc ='upper left')\n",
        "plt.title('Historgrams of release_year before data processing')\n",
        "plt.xlabel('release_year')\n",
        "plt.ylabel('Count')\n",
        "plt.show()\n"
      ],
      "execution_count": 12,
      "outputs": [
        {
          "output_type": "display_data",
          "data": {
            "image/png": "[encoded data removed]",
            "text/plain": [
              "<Figure size 432x288 with 1 Axes>"
            ]
          },
          "metadata": {
            "tags": [],
            "needs_background": "light"
          }
        }
      ]
    },
    {
      "cell_type": "markdown",
      "metadata": {
        "id": "-kAuJlbm1ydZ",
        "colab_type": "text"
      },
      "source": [
        "# Part 2: Feature Preprocessing"
      ]
    },
    {
      "cell_type": "markdown",
      "metadata": {
        "id": "wHqQu2rK12AH",
        "colab_type": "text"
      },
      "source": [
        "## 2.1 Categorical features"
      ]
    },
    {
      "cell_type": "markdown",
      "metadata": {
        "id": "VJZSa3w515W6",
        "colab_type": "text"
      },
      "source": [
        "There are 5 categorical features: import_id, mpaa, awards, genres, and release_year. There is no missing data in them. They can be converted into dummy/indicators.\n",
        "\n",
        "The first 3 have relatively small sub-types, they can be easily converted to dummies.\n",
        "\n",
        "The 'genres' have 27 different sub-types, 6 of them are rarely observed (refer to previous section). It's reasonable to group these 6 into \n",
        "1. Note: a video may have more than one genre, in the feature preprocessing, all genres are handled individually.\n",
        "2. The release_year is binned into 10 buckets based on the year range between 1917 and 2017."
      ]
    },
    {
      "cell_type": "code",
      "metadata": {
        "id": "NhEq5dXLkkIo",
        "colab_type": "code",
        "colab": {}
      },
      "source": [
        "# Convert 3 Categorical variables into dummy variables\n",
        "d_import_id = pd.get_dummies(TV['import_id']).astype(np.int64)\n",
        "d_mpaa = pd.get_dummies(TV['mpaa']).astype(np.int64)\n",
        "d_awards = pd.get_dummies(TV['awards']).astype(np.int64)"
      ],
      "execution_count": 13,
      "outputs": []
    },
    {
      "cell_type": "code",
      "metadata": {
        "id": "-gF0IhvL2Edh",
        "colab_type": "code",
        "colab": {}
      },
      "source": [
        "# Convert 'genres' into dummy variables\n",
        "d_genres=TV['genres'].str.get_dummies(sep=',').astype(np.int64)\n",
        "d_genres['Misc_genres']=d_genres['Anime']|d_genres['Reality']|d_genres['Lifestyle']|d_genres['Adult']|d_genres['LGBT']|d_genres['Holiday']\n",
        "d_genres.drop(['Anime', 'Reality','Lifestyle', 'Adult','LGBT','Holiday'], inplace=True, axis=1)"
      ],
      "execution_count": 14,
      "outputs": []
    },
    {
      "cell_type": "markdown",
      "metadata": {
        "id": "wRvlpjv5T8wO",
        "colab_type": "text"
      },
      "source": [
        ""
      ]
    },
    {
      "cell_type": "code",
      "metadata": {
        "id": "rrYuplqCU4uH",
        "colab_type": "code",
        "colab": {
          "base_uri": "https://localhost:8080/",
          "height": 187
        },
        "outputId": "81ffa54d-a46b-4775-dc92-58112d10654c"
      },
      "source": [
        "TV['release_year'].quantile([0.1,0.2,0.3,0.4,0.5,0.6,0.7,0.8,0.9])"
      ],
      "execution_count": 15,
      "outputs": [
        {
          "output_type": "execute_result",
          "data": {
            "text/plain": [
              "0.100   1974.000\n",
              "0.200   1991.000\n",
              "0.300   2001.000\n",
              "0.400   2006.000\n",
              "0.500   2008.000\n",
              "0.600   2010.000\n",
              "0.700   2012.000\n",
              "0.800   2013.000\n",
              "0.900   2014.000\n",
              "Name: release_year, dtype: float64"
            ]
          },
          "metadata": {
            "tags": []
          },
          "execution_count": 15
        }
      ]
    },
    {
      "cell_type": "markdown",
      "metadata": {
        "id": "XvtxzoL8VWq7",
        "colab_type": "text"
      },
      "source": [
        ""
      ]
    },
    {
      "cell_type": "code",
      "metadata": {
        "id": "2stB_bL3n1Uv",
        "colab_type": "code",
        "colab": {}
      },
      "source": [
        "# bin release_year and convert into dummies\n",
        "bin_year = [1916, 1974, 1991, 2001, 2006, 2008, 2010, 2012, 2013, 2014, 2017]\n",
        "year_range = ['1916-1974', '1974-1991', '1991-2001', '2001-2006','2006-2008','2008-2010','2010-2012','2012-2013',\n",
        "              '2013-2014','2014-2017']\n",
        "year_bin = pd.cut(TV['release_year'], bin_year, labels=year_range)\n",
        "d_year = pd.get_dummies(year_bin).astype(np.int64)"
      ],
      "execution_count": 16,
      "outputs": []
    },
    {
      "cell_type": "code",
      "metadata": {
        "id": "MjdlBN_roOZO",
        "colab_type": "code",
        "colab": {
          "base_uri": "https://localhost:8080/",
          "height": 1000
        },
        "outputId": "3957da35-386e-4179-b50c-8f965331f8bc"
      },
      "source": [
        "# new dataframe, drop the previous categorical features, add new dummy variables, check for null\n",
        "\n",
        "temp_tv=TV.drop(['import_id', 'mpaa','awards','genres', 'release_year'], axis=1)\n",
        "\n",
        "newTV = pd.concat([temp_tv, d_import_id, d_mpaa, d_awards, d_genres, d_year], axis=1)\n",
        "print(newTV.head())"
      ],
      "execution_count": 17,
      "outputs": [
        {
          "output_type": "stream",
          "text": [
            "   video_id  cvt_per_day  weighted_categorical_position  \\\n",
            "0    385504   307127.606                              1   \n",
            "1    300175   270338.426                              1   \n",
            "2    361899   256165.867                              1   \n",
            "3    308314   196622.721                              3   \n",
            "4    307201   159841.652                              1   \n",
            "\n",
            "   weighted_horizontal_poition  imdb_votes    budget  boxoffice  imdb_rating  \\\n",
            "0                            3       69614  15000000   42930462        6.500   \n",
            "1                            3       46705  15000000    3301046        6.500   \n",
            "2                            3      197596  26000000   37397291        7.300   \n",
            "3                            4      356339  15000000   15700000        7.600   \n",
            "4                            3       46720  27220000    8551228        6.400   \n",
            "\n",
            "   duration_in_mins  metacritic_score  star_category  lionsgate  mgm  other  \\\n",
            "0           112.301                51          1.710          1    0      0   \n",
            "1            94.983                41          3.250          1    0      0   \n",
            "2           115.764                58          2.647          0    0      1   \n",
            "3           130.704                94          1.667          1    0      0   \n",
            "4           105.546                37          3.067          1    0      0   \n",
            "\n",
            "   paramount  G  NC-17  NotRated  PG  PG-13  R  BAFTA  Golden Globe  Oscar  \\\n",
            "0          0  0      0         0   0      1  0      0             0      0   \n",
            "1          0  0      0         0   0      0  1      0             0      0   \n",
            "2          0  0      0         0   0      0  1      0             0      0   \n",
            "3          0  0      0         0   0      0  1      0             0      1   \n",
            "4          0  0      0         0   0      0  1      0             0      0   \n",
            "\n",
            "   no award  other award  Action  Adventure  Animation  Comedy  Crime  \\\n",
            "0         0            1       1          0          0       0      0   \n",
            "1         1            0       0          0          0       1      1   \n",
            "2         0            1       0          0          0       0      1   \n",
            "3         0            0       1          0          0       0      0   \n",
            "4         0            1       0          0          0       0      1   \n",
            "\n",
            "   Documentary  Drama  Fantasy  Foreign/International  Horror  Independent  \\\n",
            "0            0      1        0                      0       0            0   \n",
            "1            0      0        0                      0       0            0   \n",
            "2            0      1        0                      0       0            0   \n",
            "3            1      1        0                      0       0            0   \n",
            "4            1      0        0                      0       0            0   \n",
            "\n",
            "   Kids & Family  Music  Musicals  Mystery  Romance  Sci-Fi  Sport  Thriller  \\\n",
            "0              0      0         0        0        0       0      0         1   \n",
            "1              0      0         0        0        0       0      0         1   \n",
            "2              0      0         0        0        0       0      0         0   \n",
            "3              0      0         0        1        0       0      0         1   \n",
            "4              0      0         0        1        0       0      0         1   \n",
            "\n",
            "   War  Western  Misc_genres  1916-1974  1974-1991  1991-2001  2001-2006  \\\n",
            "0    0        0            0          0          0          0          0   \n",
            "1    0        0            0          0          0          0          0   \n",
            "2    0        0            0          0          0          0          0   \n",
            "3    1        0            0          0          0          0          0   \n",
            "4    0        0            0          0          0          0          0   \n",
            "\n",
            "   2006-2008  2008-2010  2010-2012  2012-2013  2013-2014  2014-2017  \n",
            "0          0          0          0          1          0          0  \n",
            "1          0          0          0          1          0          0  \n",
            "2          0          0          1          0          0          0  \n",
            "3          1          0          0          0          0          0  \n",
            "4          0          0          0          1          0          0  \n"
          ],
          "name": "stdout"
        }
      ]
    },
    {
      "cell_type": "markdown",
      "metadata": {
        "id": "N76z14XL2f2n",
        "colab_type": "text"
      },
      "source": [
        "## 2.2 Missing data"
      ]
    },
    {
      "cell_type": "markdown",
      "metadata": {
        "id": "Z5nrzz8i2kgs",
        "colab_type": "text"
      },
      "source": [
        "Among the 10 numerical features (not include video_id), 4 features have over 25% of missing values (shown as '0', which is not possible in reality): budget, boxoffice, metacritic_score, star_category. 2 features have less than 10% of missing data: imdb_votes, imdb_rating.\n",
        "\n",
        "There are 3242 samples have at least one missing data."
      ]
    },
    {
      "cell_type": "markdown",
      "metadata": {
        "id": "yEsN836gC4Zw",
        "colab_type": "text"
      },
      "source": [
        "Right Now we have to deal with the missing data. According to the data info, there is no Null value in our dataset.\n",
        "That's good, but we have to be catious, cause zero value can be a very good candidate for missing data. \n",
        "So we have the check the ratio of zero value in our numeric feature"
      ]
    },
    {
      "cell_type": "code",
      "metadata": {
        "id": "WxdTKOiMDdD5",
        "colab_type": "code",
        "colab": {
          "base_uri": "https://localhost:8080/",
          "height": 1000
        },
        "outputId": "c2bc2e6a-b3bd-4cde-9e3b-df8621fb2443"
      },
      "source": [
        "newTV[['budget','boxoffice','metacritic_score', 'star_category','imdb_votes', 'imdb_rating']] = newTV[['budget','boxoffice','metacritic_score', 'star_category','imdb_votes', 'imdb_rating']].replace(0, np.nan)\n",
        "print(newTV.info())"
      ],
      "execution_count": 18,
      "outputs": [
        {
          "output_type": "stream",
          "text": [
            "<class 'pandas.core.frame.DataFrame'>\n",
            "RangeIndex: 4226 entries, 0 to 4225\n",
            "Data columns (total 58 columns):\n",
            " #   Column                         Non-Null Count  Dtype  \n",
            "---  ------                         --------------  -----  \n",
            " 0   video_id                       4226 non-null   int64  \n",
            " 1   cvt_per_day                    4226 non-null   float64\n",
            " 2   weighted_categorical_position  4226 non-null   int64  \n",
            " 3   weighted_horizontal_poition    4226 non-null   int64  \n",
            " 4   imdb_votes                     3882 non-null   float64\n",
            " 5   budget                         1772 non-null   float64\n",
            " 6   boxoffice                      1032 non-null   float64\n",
            " 7   imdb_rating                    3882 non-null   float64\n",
            " 8   duration_in_mins               4226 non-null   float64\n",
            " 9   metacritic_score               1214 non-null   float64\n",
            " 10  star_category                  2380 non-null   float64\n",
            " 11  lionsgate                      4226 non-null   int64  \n",
            " 12  mgm                            4226 non-null   int64  \n",
            " 13  other                          4226 non-null   int64  \n",
            " 14  paramount                      4226 non-null   int64  \n",
            " 15  G                              4226 non-null   int64  \n",
            " 16  NC-17                          4226 non-null   int64  \n",
            " 17  NotRated                       4226 non-null   int64  \n",
            " 18  PG                             4226 non-null   int64  \n",
            " 19  PG-13                          4226 non-null   int64  \n",
            " 20  R                              4226 non-null   int64  \n",
            " 21  BAFTA                          4226 non-null   int64  \n",
            " 22  Golden Globe                   4226 non-null   int64  \n",
            " 23  Oscar                          4226 non-null   int64  \n",
            " 24  no award                       4226 non-null   int64  \n",
            " 25  other award                    4226 non-null   int64  \n",
            " 26  Action                         4226 non-null   int64  \n",
            " 27  Adventure                      4226 non-null   int64  \n",
            " 28  Animation                      4226 non-null   int64  \n",
            " 29  Comedy                         4226 non-null   int64  \n",
            " 30  Crime                          4226 non-null   int64  \n",
            " 31  Documentary                    4226 non-null   int64  \n",
            " 32  Drama                          4226 non-null   int64  \n",
            " 33  Fantasy                        4226 non-null   int64  \n",
            " 34  Foreign/International          4226 non-null   int64  \n",
            " 35  Horror                         4226 non-null   int64  \n",
            " 36  Independent                    4226 non-null   int64  \n",
            " 37  Kids & Family                  4226 non-null   int64  \n",
            " 38  Music                          4226 non-null   int64  \n",
            " 39  Musicals                       4226 non-null   int64  \n",
            " 40  Mystery                        4226 non-null   int64  \n",
            " 41  Romance                        4226 non-null   int64  \n",
            " 42  Sci-Fi                         4226 non-null   int64  \n",
            " 43  Sport                          4226 non-null   int64  \n",
            " 44  Thriller                       4226 non-null   int64  \n",
            " 45  War                            4226 non-null   int64  \n",
            " 46  Western                        4226 non-null   int64  \n",
            " 47  Misc_genres                    4226 non-null   int64  \n",
            " 48  1916-1974                      4226 non-null   int64  \n",
            " 49  1974-1991                      4226 non-null   int64  \n",
            " 50  1991-2001                      4226 non-null   int64  \n",
            " 51  2001-2006                      4226 non-null   int64  \n",
            " 52  2006-2008                      4226 non-null   int64  \n",
            " 53  2008-2010                      4226 non-null   int64  \n",
            " 54  2010-2012                      4226 non-null   int64  \n",
            " 55  2012-2013                      4226 non-null   int64  \n",
            " 56  2013-2014                      4226 non-null   int64  \n",
            " 57  2014-2017                      4226 non-null   int64  \n",
            "dtypes: float64(8), int64(50)\n",
            "memory usage: 1.9 MB\n",
            "None\n"
          ],
          "name": "stdout"
        }
      ]
    },
    {
      "cell_type": "code",
      "metadata": {
        "id": "lpnxAbDiiRcx",
        "colab_type": "code",
        "colab": {
          "base_uri": "https://localhost:8080/",
          "height": 1000
        },
        "outputId": "2e65490e-5588-4fad-ab89-07aba7aa31ea"
      },
      "source": [
        "print(newTV.isnull().sum()/newTV.shape[0])"
      ],
      "execution_count": 19,
      "outputs": [
        {
          "output_type": "stream",
          "text": [
            "video_id                        0.000\n",
            "cvt_per_day                     0.000\n",
            "weighted_categorical_position   0.000\n",
            "weighted_horizontal_poition     0.000\n",
            "imdb_votes                      0.081\n",
            "budget                          0.581\n",
            "boxoffice                       0.756\n",
            "imdb_rating                     0.081\n",
            "duration_in_mins                0.000\n",
            "metacritic_score                0.713\n",
            "star_category                   0.437\n",
            "lionsgate                       0.000\n",
            "mgm                             0.000\n",
            "other                           0.000\n",
            "paramount                       0.000\n",
            "G                               0.000\n",
            "NC-17                           0.000\n",
            "NotRated                        0.000\n",
            "PG                              0.000\n",
            "PG-13                           0.000\n",
            "R                               0.000\n",
            "BAFTA                           0.000\n",
            "Golden Globe                    0.000\n",
            "Oscar                           0.000\n",
            "no award                        0.000\n",
            "other award                     0.000\n",
            "Action                          0.000\n",
            "Adventure                       0.000\n",
            "Animation                       0.000\n",
            "Comedy                          0.000\n",
            "Crime                           0.000\n",
            "Documentary                     0.000\n",
            "Drama                           0.000\n",
            "Fantasy                         0.000\n",
            "Foreign/International           0.000\n",
            "Horror                          0.000\n",
            "Independent                     0.000\n",
            "Kids & Family                   0.000\n",
            "Music                           0.000\n",
            "Musicals                        0.000\n",
            "Mystery                         0.000\n",
            "Romance                         0.000\n",
            "Sci-Fi                          0.000\n",
            "Sport                           0.000\n",
            "Thriller                        0.000\n",
            "War                             0.000\n",
            "Western                         0.000\n",
            "Misc_genres                     0.000\n",
            "1916-1974                       0.000\n",
            "1974-1991                       0.000\n",
            "1991-2001                       0.000\n",
            "2001-2006                       0.000\n",
            "2006-2008                       0.000\n",
            "2008-2010                       0.000\n",
            "2010-2012                       0.000\n",
            "2012-2013                       0.000\n",
            "2013-2014                       0.000\n",
            "2014-2017                       0.000\n",
            "dtype: float64\n"
          ],
          "name": "stdout"
        }
      ]
    },
    {
      "cell_type": "markdown",
      "metadata": {
        "id": "Q9BKknWx3k9l",
        "colab_type": "text"
      },
      "source": [
        "Filling missing data with mean value"
      ]
    },
    {
      "cell_type": "code",
      "metadata": {
        "id": "Jf8oxZlD3ap5",
        "colab_type": "code",
        "colab": {
          "base_uri": "https://localhost:8080/",
          "height": 1000
        },
        "outputId": "4417a92e-99a9-48df-e448-42e08b6610bd"
      },
      "source": [
        "newTV1=newTV.copy()\n",
        "newTV1['boxoffice']=newTV1['boxoffice'].fillna(newTV1['boxoffice'].mean())\n",
        "newTV1['metacritic_score']=newTV1['metacritic_score'].fillna(newTV1['metacritic_score'].mean())\n",
        "newTV1['star_category']=newTV1['star_category'].fillna(newTV1['star_category'].mean())\n",
        "newTV1['imdb_votes']=newTV1['imdb_votes'].fillna(newTV1['imdb_votes'].mean())\n",
        "newTV1['imdb_rating']=newTV1['imdb_rating'].fillna(newTV1['imdb_rating'].mean())\n",
        "newTV1['budget']=newTV1['budget'].fillna(newTV1['budget'].mean())\n",
        "print(newTV1.info())"
      ],
      "execution_count": 20,
      "outputs": [
        {
          "output_type": "stream",
          "text": [
            "<class 'pandas.core.frame.DataFrame'>\n",
            "RangeIndex: 4226 entries, 0 to 4225\n",
            "Data columns (total 58 columns):\n",
            " #   Column                         Non-Null Count  Dtype  \n",
            "---  ------                         --------------  -----  \n",
            " 0   video_id                       4226 non-null   int64  \n",
            " 1   cvt_per_day                    4226 non-null   float64\n",
            " 2   weighted_categorical_position  4226 non-null   int64  \n",
            " 3   weighted_horizontal_poition    4226 non-null   int64  \n",
            " 4   imdb_votes                     4226 non-null   float64\n",
            " 5   budget                         4226 non-null   float64\n",
            " 6   boxoffice                      4226 non-null   float64\n",
            " 7   imdb_rating                    4226 non-null   float64\n",
            " 8   duration_in_mins               4226 non-null   float64\n",
            " 9   metacritic_score               4226 non-null   float64\n",
            " 10  star_category                  4226 non-null   float64\n",
            " 11  lionsgate                      4226 non-null   int64  \n",
            " 12  mgm                            4226 non-null   int64  \n",
            " 13  other                          4226 non-null   int64  \n",
            " 14  paramount                      4226 non-null   int64  \n",
            " 15  G                              4226 non-null   int64  \n",
            " 16  NC-17                          4226 non-null   int64  \n",
            " 17  NotRated                       4226 non-null   int64  \n",
            " 18  PG                             4226 non-null   int64  \n",
            " 19  PG-13                          4226 non-null   int64  \n",
            " 20  R                              4226 non-null   int64  \n",
            " 21  BAFTA                          4226 non-null   int64  \n",
            " 22  Golden Globe                   4226 non-null   int64  \n",
            " 23  Oscar                          4226 non-null   int64  \n",
            " 24  no award                       4226 non-null   int64  \n",
            " 25  other award                    4226 non-null   int64  \n",
            " 26  Action                         4226 non-null   int64  \n",
            " 27  Adventure                      4226 non-null   int64  \n",
            " 28  Animation                      4226 non-null   int64  \n",
            " 29  Comedy                         4226 non-null   int64  \n",
            " 30  Crime                          4226 non-null   int64  \n",
            " 31  Documentary                    4226 non-null   int64  \n",
            " 32  Drama                          4226 non-null   int64  \n",
            " 33  Fantasy                        4226 non-null   int64  \n",
            " 34  Foreign/International          4226 non-null   int64  \n",
            " 35  Horror                         4226 non-null   int64  \n",
            " 36  Independent                    4226 non-null   int64  \n",
            " 37  Kids & Family                  4226 non-null   int64  \n",
            " 38  Music                          4226 non-null   int64  \n",
            " 39  Musicals                       4226 non-null   int64  \n",
            " 40  Mystery                        4226 non-null   int64  \n",
            " 41  Romance                        4226 non-null   int64  \n",
            " 42  Sci-Fi                         4226 non-null   int64  \n",
            " 43  Sport                          4226 non-null   int64  \n",
            " 44  Thriller                       4226 non-null   int64  \n",
            " 45  War                            4226 non-null   int64  \n",
            " 46  Western                        4226 non-null   int64  \n",
            " 47  Misc_genres                    4226 non-null   int64  \n",
            " 48  1916-1974                      4226 non-null   int64  \n",
            " 49  1974-1991                      4226 non-null   int64  \n",
            " 50  1991-2001                      4226 non-null   int64  \n",
            " 51  2001-2006                      4226 non-null   int64  \n",
            " 52  2006-2008                      4226 non-null   int64  \n",
            " 53  2008-2010                      4226 non-null   int64  \n",
            " 54  2010-2012                      4226 non-null   int64  \n",
            " 55  2012-2013                      4226 non-null   int64  \n",
            " 56  2013-2014                      4226 non-null   int64  \n",
            " 57  2014-2017                      4226 non-null   int64  \n",
            "dtypes: float64(8), int64(50)\n",
            "memory usage: 1.9 MB\n",
            "None\n"
          ],
          "name": "stdout"
        }
      ]
    },
    {
      "cell_type": "markdown",
      "metadata": {
        "id": "2DcCzUhrRrJh",
        "colab_type": "text"
      },
      "source": [
        "There are two most common used scaling method: normalization and standardscaler\n",
        "If there are no specific requirement for the range of output, we choose to use standardscaler"
      ]
    },
    {
      "cell_type": "markdown",
      "metadata": {
        "id": "XqN_tYv537ak",
        "colab_type": "text"
      },
      "source": [
        "## 2.3 Feature scaling"
      ]
    },
    {
      "cell_type": "markdown",
      "metadata": {
        "id": "Qbgz-PeU3-PK",
        "colab_type": "text"
      },
      "source": [
        "The impact of different scaling methods on the model performance is small. In the following model training and selections, the standard scaling (sc) data is used."
      ]
    },
    {
      "cell_type": "code",
      "metadata": {
        "id": "ukI1bTdTPuZK",
        "colab_type": "code",
        "colab": {
          "base_uri": "https://localhost:8080/",
          "height": 241
        },
        "outputId": "d964f6d6-2b7b-4acc-d261-0c52cd94b5b9"
      },
      "source": [
        "#Standard scaling\n",
        "scale_lst = ['weighted_categorical_position', 'weighted_horizontal_poition', 'budget','boxoffice', \n",
        "             'imdb_votes','imdb_rating','duration_in_mins', 'metacritic_score','star_category']\n",
        "newTV_sc = newTV1.copy()\n",
        "\n",
        "sc_scale = preprocessing.StandardScaler().fit(newTV_sc[scale_lst])\n",
        "newTV_sc[scale_lst] = sc_scale.transform(newTV_sc[scale_lst])\n",
        "newTV_sc.head()\n"
      ],
      "execution_count": 21,
      "outputs": [
        {
          "output_type": "execute_result",
          "data": {
            "text/html": [
              "<div>\n",
              "<style scoped>\n",
              "    .dataframe tbody tr th:only-of-type {\n",
              "        vertical-align: middle;\n",
              "    }\n",
              "\n",
              "    .dataframe tbody tr th {\n",
              "        vertical-align: top;\n",
              "    }\n",
              "\n",
              "    .dataframe thead th {\n",
              "        text-align: right;\n",
              "    }\n",
              "</style>\n",
              "<table border=\"1\" class=\"dataframe\">\n",
              "  <thead>\n",
              "    <tr style=\"text-align: right;\">\n",
              "      <th></th>\n",
              "      <th>video_id</th>\n",
              "      <th>cvt_per_day</th>\n",
              "      <th>weighted_categorical_position</th>\n",
              "      <th>weighted_horizontal_poition</th>\n",
              "      <th>imdb_votes</th>\n",
              "      <th>budget</th>\n",
              "      <th>boxoffice</th>\n",
              "      <th>imdb_rating</th>\n",
              "      <th>duration_in_mins</th>\n",
              "      <th>metacritic_score</th>\n",
              "      <th>star_category</th>\n",
              "      <th>lionsgate</th>\n",
              "      <th>mgm</th>\n",
              "      <th>other</th>\n",
              "      <th>paramount</th>\n",
              "      <th>G</th>\n",
              "      <th>NC-17</th>\n",
              "      <th>NotRated</th>\n",
              "      <th>PG</th>\n",
              "      <th>PG-13</th>\n",
              "      <th>R</th>\n",
              "      <th>BAFTA</th>\n",
              "      <th>Golden Globe</th>\n",
              "      <th>Oscar</th>\n",
              "      <th>no award</th>\n",
              "      <th>other award</th>\n",
              "      <th>Action</th>\n",
              "      <th>Adventure</th>\n",
              "      <th>Animation</th>\n",
              "      <th>Comedy</th>\n",
              "      <th>Crime</th>\n",
              "      <th>Documentary</th>\n",
              "      <th>Drama</th>\n",
              "      <th>Fantasy</th>\n",
              "      <th>Foreign/International</th>\n",
              "      <th>Horror</th>\n",
              "      <th>Independent</th>\n",
              "      <th>Kids &amp; Family</th>\n",
              "      <th>Music</th>\n",
              "      <th>Musicals</th>\n",
              "      <th>Mystery</th>\n",
              "      <th>Romance</th>\n",
              "      <th>Sci-Fi</th>\n",
              "      <th>Sport</th>\n",
              "      <th>Thriller</th>\n",
              "      <th>War</th>\n",
              "      <th>Western</th>\n",
              "      <th>Misc_genres</th>\n",
              "      <th>1916-1974</th>\n",
              "      <th>1974-1991</th>\n",
              "      <th>1991-2001</th>\n",
              "      <th>2001-2006</th>\n",
              "      <th>2006-2008</th>\n",
              "      <th>2008-2010</th>\n",
              "      <th>2010-2012</th>\n",
              "      <th>2012-2013</th>\n",
              "      <th>2013-2014</th>\n",
              "      <th>2014-2017</th>\n",
              "    </tr>\n",
              "  </thead>\n",
              "  <tbody>\n",
              "    <tr>\n",
              "      <th>0</th>\n",
              "      <td>385504</td>\n",
              "      <td>307127.606</td>\n",
              "      <td>-1.106</td>\n",
              "      <td>-2.116</td>\n",
              "      <td>1.984</td>\n",
              "      <td>1.470</td>\n",
              "      <td>4.696</td>\n",
              "      <td>0.542</td>\n",
              "      <td>1.079</td>\n",
              "      <td>-0.630</td>\n",
              "      <td>0.033</td>\n",
              "      <td>1</td>\n",
              "      <td>0</td>\n",
              "      <td>0</td>\n",
              "      <td>0</td>\n",
              "      <td>0</td>\n",
              "      <td>0</td>\n",
              "      <td>0</td>\n",
              "      <td>0</td>\n",
              "      <td>1</td>\n",
              "      <td>0</td>\n",
              "      <td>0</td>\n",
              "      <td>0</td>\n",
              "      <td>0</td>\n",
              "      <td>0</td>\n",
              "      <td>1</td>\n",
              "      <td>1</td>\n",
              "      <td>0</td>\n",
              "      <td>0</td>\n",
              "      <td>0</td>\n",
              "      <td>0</td>\n",
              "      <td>0</td>\n",
              "      <td>1</td>\n",
              "      <td>0</td>\n",
              "      <td>0</td>\n",
              "      <td>0</td>\n",
              "      <td>0</td>\n",
              "      <td>0</td>\n",
              "      <td>0</td>\n",
              "      <td>0</td>\n",
              "      <td>0</td>\n",
              "      <td>0</td>\n",
              "      <td>0</td>\n",
              "      <td>0</td>\n",
              "      <td>1</td>\n",
              "      <td>0</td>\n",
              "      <td>0</td>\n",
              "      <td>0</td>\n",
              "      <td>0</td>\n",
              "      <td>0</td>\n",
              "      <td>0</td>\n",
              "      <td>0</td>\n",
              "      <td>0</td>\n",
              "      <td>0</td>\n",
              "      <td>0</td>\n",
              "      <td>1</td>\n",
              "      <td>0</td>\n",
              "      <td>0</td>\n",
              "    </tr>\n",
              "    <tr>\n",
              "      <th>1</th>\n",
              "      <td>300175</td>\n",
              "      <td>270338.426</td>\n",
              "      <td>-1.106</td>\n",
              "      <td>-2.116</td>\n",
              "      <td>1.258</td>\n",
              "      <td>1.470</td>\n",
              "      <td>-1.022</td>\n",
              "      <td>0.542</td>\n",
              "      <td>0.257</td>\n",
              "      <td>-1.997</td>\n",
              "      <td>3.434</td>\n",
              "      <td>1</td>\n",
              "      <td>0</td>\n",
              "      <td>0</td>\n",
              "      <td>0</td>\n",
              "      <td>0</td>\n",
              "      <td>0</td>\n",
              "      <td>0</td>\n",
              "      <td>0</td>\n",
              "      <td>0</td>\n",
              "      <td>1</td>\n",
              "      <td>0</td>\n",
              "      <td>0</td>\n",
              "      <td>0</td>\n",
              "      <td>1</td>\n",
              "      <td>0</td>\n",
              "      <td>0</td>\n",
              "      <td>0</td>\n",
              "      <td>0</td>\n",
              "      <td>1</td>\n",
              "      <td>1</td>\n",
              "      <td>0</td>\n",
              "      <td>0</td>\n",
              "      <td>0</td>\n",
              "      <td>0</td>\n",
              "      <td>0</td>\n",
              "      <td>0</td>\n",
              "      <td>0</td>\n",
              "      <td>0</td>\n",
              "      <td>0</td>\n",
              "      <td>0</td>\n",
              "      <td>0</td>\n",
              "      <td>0</td>\n",
              "      <td>0</td>\n",
              "      <td>1</td>\n",
              "      <td>0</td>\n",
              "      <td>0</td>\n",
              "      <td>0</td>\n",
              "      <td>0</td>\n",
              "      <td>0</td>\n",
              "      <td>0</td>\n",
              "      <td>0</td>\n",
              "      <td>0</td>\n",
              "      <td>0</td>\n",
              "      <td>0</td>\n",
              "      <td>1</td>\n",
              "      <td>0</td>\n",
              "      <td>0</td>\n",
              "    </tr>\n",
              "    <tr>\n",
              "      <th>2</th>\n",
              "      <td>361899</td>\n",
              "      <td>256165.867</td>\n",
              "      <td>-1.106</td>\n",
              "      <td>-2.116</td>\n",
              "      <td>6.043</td>\n",
              "      <td>3.108</td>\n",
              "      <td>3.898</td>\n",
              "      <td>1.100</td>\n",
              "      <td>1.243</td>\n",
              "      <td>0.327</td>\n",
              "      <td>2.102</td>\n",
              "      <td>0</td>\n",
              "      <td>0</td>\n",
              "      <td>1</td>\n",
              "      <td>0</td>\n",
              "      <td>0</td>\n",
              "      <td>0</td>\n",
              "      <td>0</td>\n",
              "      <td>0</td>\n",
              "      <td>0</td>\n",
              "      <td>1</td>\n",
              "      <td>0</td>\n",
              "      <td>0</td>\n",
              "      <td>0</td>\n",
              "      <td>0</td>\n",
              "      <td>1</td>\n",
              "      <td>0</td>\n",
              "      <td>0</td>\n",
              "      <td>0</td>\n",
              "      <td>0</td>\n",
              "      <td>1</td>\n",
              "      <td>0</td>\n",
              "      <td>1</td>\n",
              "      <td>0</td>\n",
              "      <td>0</td>\n",
              "      <td>0</td>\n",
              "      <td>0</td>\n",
              "      <td>0</td>\n",
              "      <td>0</td>\n",
              "      <td>0</td>\n",
              "      <td>0</td>\n",
              "      <td>0</td>\n",
              "      <td>0</td>\n",
              "      <td>0</td>\n",
              "      <td>0</td>\n",
              "      <td>0</td>\n",
              "      <td>0</td>\n",
              "      <td>0</td>\n",
              "      <td>0</td>\n",
              "      <td>0</td>\n",
              "      <td>0</td>\n",
              "      <td>0</td>\n",
              "      <td>0</td>\n",
              "      <td>0</td>\n",
              "      <td>1</td>\n",
              "      <td>0</td>\n",
              "      <td>0</td>\n",
              "      <td>0</td>\n",
              "    </tr>\n",
              "    <tr>\n",
              "      <th>3</th>\n",
              "      <td>308314</td>\n",
              "      <td>196622.721</td>\n",
              "      <td>-0.780</td>\n",
              "      <td>-2.032</td>\n",
              "      <td>11.077</td>\n",
              "      <td>1.470</td>\n",
              "      <td>0.767</td>\n",
              "      <td>1.309</td>\n",
              "      <td>1.952</td>\n",
              "      <td>5.250</td>\n",
              "      <td>-0.063</td>\n",
              "      <td>1</td>\n",
              "      <td>0</td>\n",
              "      <td>0</td>\n",
              "      <td>0</td>\n",
              "      <td>0</td>\n",
              "      <td>0</td>\n",
              "      <td>0</td>\n",
              "      <td>0</td>\n",
              "      <td>0</td>\n",
              "      <td>1</td>\n",
              "      <td>0</td>\n",
              "      <td>0</td>\n",
              "      <td>1</td>\n",
              "      <td>0</td>\n",
              "      <td>0</td>\n",
              "      <td>1</td>\n",
              "      <td>0</td>\n",
              "      <td>0</td>\n",
              "      <td>0</td>\n",
              "      <td>0</td>\n",
              "      <td>1</td>\n",
              "      <td>1</td>\n",
              "      <td>0</td>\n",
              "      <td>0</td>\n",
              "      <td>0</td>\n",
              "      <td>0</td>\n",
              "      <td>0</td>\n",
              "      <td>0</td>\n",
              "      <td>0</td>\n",
              "      <td>1</td>\n",
              "      <td>0</td>\n",
              "      <td>0</td>\n",
              "      <td>0</td>\n",
              "      <td>1</td>\n",
              "      <td>1</td>\n",
              "      <td>0</td>\n",
              "      <td>0</td>\n",
              "      <td>0</td>\n",
              "      <td>0</td>\n",
              "      <td>0</td>\n",
              "      <td>0</td>\n",
              "      <td>1</td>\n",
              "      <td>0</td>\n",
              "      <td>0</td>\n",
              "      <td>0</td>\n",
              "      <td>0</td>\n",
              "      <td>0</td>\n",
              "    </tr>\n",
              "    <tr>\n",
              "      <th>4</th>\n",
              "      <td>307201</td>\n",
              "      <td>159841.652</td>\n",
              "      <td>-1.106</td>\n",
              "      <td>-2.116</td>\n",
              "      <td>1.258</td>\n",
              "      <td>3.290</td>\n",
              "      <td>-0.265</td>\n",
              "      <td>0.472</td>\n",
              "      <td>0.758</td>\n",
              "      <td>-2.544</td>\n",
              "      <td>3.029</td>\n",
              "      <td>1</td>\n",
              "      <td>0</td>\n",
              "      <td>0</td>\n",
              "      <td>0</td>\n",
              "      <td>0</td>\n",
              "      <td>0</td>\n",
              "      <td>0</td>\n",
              "      <td>0</td>\n",
              "      <td>0</td>\n",
              "      <td>1</td>\n",
              "      <td>0</td>\n",
              "      <td>0</td>\n",
              "      <td>0</td>\n",
              "      <td>0</td>\n",
              "      <td>1</td>\n",
              "      <td>0</td>\n",
              "      <td>0</td>\n",
              "      <td>0</td>\n",
              "      <td>0</td>\n",
              "      <td>1</td>\n",
              "      <td>1</td>\n",
              "      <td>0</td>\n",
              "      <td>0</td>\n",
              "      <td>0</td>\n",
              "      <td>0</td>\n",
              "      <td>0</td>\n",
              "      <td>0</td>\n",
              "      <td>0</td>\n",
              "      <td>0</td>\n",
              "      <td>1</td>\n",
              "      <td>0</td>\n",
              "      <td>0</td>\n",
              "      <td>0</td>\n",
              "      <td>1</td>\n",
              "      <td>0</td>\n",
              "      <td>0</td>\n",
              "      <td>0</td>\n",
              "      <td>0</td>\n",
              "      <td>0</td>\n",
              "      <td>0</td>\n",
              "      <td>0</td>\n",
              "      <td>0</td>\n",
              "      <td>0</td>\n",
              "      <td>0</td>\n",
              "      <td>1</td>\n",
              "      <td>0</td>\n",
              "      <td>0</td>\n",
              "    </tr>\n",
              "  </tbody>\n",
              "</table>\n",
              "</div>"
            ],
            "text/plain": [
              "   video_id  cvt_per_day  weighted_categorical_position  \\\n",
              "0    385504   307127.606                         -1.106   \n",
              "1    300175   270338.426                         -1.106   \n",
              "2    361899   256165.867                         -1.106   \n",
              "3    308314   196622.721                         -0.780   \n",
              "4    307201   159841.652                         -1.106   \n",
              "\n",
              "   weighted_horizontal_poition  imdb_votes  budget  boxoffice  imdb_rating  \\\n",
              "0                       -2.116       1.984   1.470      4.696        0.542   \n",
              "1                       -2.116       1.258   1.470     -1.022        0.542   \n",
              "2                       -2.116       6.043   3.108      3.898        1.100   \n",
              "3                       -2.032      11.077   1.470      0.767        1.309   \n",
              "4                       -2.116       1.258   3.290     -0.265        0.472   \n",
              "\n",
              "   duration_in_mins  metacritic_score  star_category  lionsgate  mgm  other  \\\n",
              "0             1.079            -0.630          0.033          1    0      0   \n",
              "1             0.257            -1.997          3.434          1    0      0   \n",
              "2             1.243             0.327          2.102          0    0      1   \n",
              "3             1.952             5.250         -0.063          1    0      0   \n",
              "4             0.758            -2.544          3.029          1    0      0   \n",
              "\n",
              "   paramount  G  NC-17  NotRated  PG  PG-13  R  BAFTA  Golden Globe  Oscar  \\\n",
              "0          0  0      0         0   0      1  0      0             0      0   \n",
              "1          0  0      0         0   0      0  1      0             0      0   \n",
              "2          0  0      0         0   0      0  1      0             0      0   \n",
              "3          0  0      0         0   0      0  1      0             0      1   \n",
              "4          0  0      0         0   0      0  1      0             0      0   \n",
              "\n",
              "   no award  other award  Action  Adventure  Animation  Comedy  Crime  \\\n",
              "0         0            1       1          0          0       0      0   \n",
              "1         1            0       0          0          0       1      1   \n",
              "2         0            1       0          0          0       0      1   \n",
              "3         0            0       1          0          0       0      0   \n",
              "4         0            1       0          0          0       0      1   \n",
              "\n",
              "   Documentary  Drama  Fantasy  Foreign/International  Horror  Independent  \\\n",
              "0            0      1        0                      0       0            0   \n",
              "1            0      0        0                      0       0            0   \n",
              "2            0      1        0                      0       0            0   \n",
              "3            1      1        0                      0       0            0   \n",
              "4            1      0        0                      0       0            0   \n",
              "\n",
              "   Kids & Family  Music  Musicals  Mystery  Romance  Sci-Fi  Sport  Thriller  \\\n",
              "0              0      0         0        0        0       0      0         1   \n",
              "1              0      0         0        0        0       0      0         1   \n",
              "2              0      0         0        0        0       0      0         0   \n",
              "3              0      0         0        1        0       0      0         1   \n",
              "4              0      0         0        1        0       0      0         1   \n",
              "\n",
              "   War  Western  Misc_genres  1916-1974  1974-1991  1991-2001  2001-2006  \\\n",
              "0    0        0            0          0          0          0          0   \n",
              "1    0        0            0          0          0          0          0   \n",
              "2    0        0            0          0          0          0          0   \n",
              "3    1        0            0          0          0          0          0   \n",
              "4    0        0            0          0          0          0          0   \n",
              "\n",
              "   2006-2008  2008-2010  2010-2012  2012-2013  2013-2014  2014-2017  \n",
              "0          0          0          0          1          0          0  \n",
              "1          0          0          0          1          0          0  \n",
              "2          0          0          1          0          0          0  \n",
              "3          1          0          0          0          0          0  \n",
              "4          0          0          0          1          0          0  "
            ]
          },
          "metadata": {
            "tags": []
          },
          "execution_count": 21
        }
      ]
    },
    {
      "cell_type": "markdown",
      "metadata": {
        "id": "jVDrj0qG4KZp",
        "colab_type": "text"
      },
      "source": [
        ""
      ]
    },
    {
      "cell_type": "code",
      "metadata": {
        "id": "KlvOiEqz4LWH",
        "colab_type": "code",
        "colab": {}
      },
      "source": [
        "# MinMax scaling\n",
        "newTV_mm = newTV.copy()\n",
        "mm_scale = preprocessing.MinMaxScaler().fit(newTV_mm[scale_lst])\n",
        "newTV_mm[scale_lst] = mm_scale.transform(newTV_mm[scale_lst])"
      ],
      "execution_count": 22,
      "outputs": []
    },
    {
      "cell_type": "code",
      "metadata": {
        "id": "urBobvmf4Lvr",
        "colab_type": "code",
        "colab": {}
      },
      "source": [
        "# Robust scaling\n",
        "newTV_rs = newTV.copy()\n",
        "rs_scale = preprocessing.RobustScaler().fit(newTV_mm[scale_lst])\n",
        "newTV_rs[scale_lst] = rs_scale.transform(newTV_rs[scale_lst])"
      ],
      "execution_count": 23,
      "outputs": []
    },
    {
      "cell_type": "markdown",
      "metadata": {
        "id": "TpuYM0uv4OnC",
        "colab_type": "text"
      },
      "source": [
        "# Part 3: Model Training"
      ]
    },
    {
      "cell_type": "code",
      "metadata": {
        "id": "Z0wDBXROSAe-",
        "colab_type": "code",
        "colab": {}
      },
      "source": [
        "train, test = train_test_split(newTV_sc, test_size=0.15, random_state = 3)\n",
        "model_train_x = train.drop(['video_id', 'cvt_per_day'], axis = 1)\n",
        "model_test_x = test.drop(['video_id', 'cvt_per_day'], axis = 1)\n",
        "model_train_y = train['cvt_per_day']\n",
        "model_test_y = test['cvt_per_day']"
      ],
      "execution_count": 24,
      "outputs": []
    },
    {
      "cell_type": "markdown",
      "metadata": {
        "id": "a715kJX94Ukb",
        "colab_type": "text"
      },
      "source": [
        "### 3.1 Lasso linear regression"
      ]
    },
    {
      "cell_type": "code",
      "metadata": {
        "id": "jXNJRu0eYgiv",
        "colab_type": "code",
        "colab": {
          "base_uri": "https://localhost:8080/",
          "height": 329
        },
        "outputId": "75fe2f9f-c26e-4137-9dc8-df941d30038f"
      },
      "source": [
        "from sklearn.model_selection import train_test_split\n",
        "from sklearn.linear_model import LinearRegression, Lasso, Ridge\n",
        "from sklearn.metrics import mean_squared_error, r2_score\n",
        "from math import sqrt\n",
        "\n",
        "lr_train, lr_validate = train_test_split(train, test_size=0.15, random_state = 0)\n",
        "\n",
        "lr_train_x = lr_train.drop(['video_id', 'cvt_per_day'], axis = 1)\n",
        "lr_validate_x = lr_validate.drop(['video_id', 'cvt_per_day'], axis = 1)\n",
        "lr_train_y = lr_train['cvt_per_day']\n",
        "lr_validate_y = lr_validate['cvt_per_day']\n",
        "\n",
        "alphas = np.logspace (-0.3, 2.5, num=150)\n",
        "# alphas= [0.000000001]\n",
        "scores = np.empty_like(alphas)\n",
        "opt_a = float('-inf')\n",
        "max_score = float('-inf')\n",
        "for i, a in enumerate(alphas):\n",
        "    lasso = Lasso()\n",
        "    lasso.set_params(alpha = a)\n",
        "    lasso.fit(lr_train_x, lr_train_y)\n",
        "    scores[i] = lasso.score(lr_validate_x, lr_validate_y)\n",
        "    if scores[i] > max_score:\n",
        "        max_score = scores[i]\n",
        "        opt_a = a\n",
        "        lasso_save = lasso\n",
        "plt.plot(alphas, scores, color='b', linestyle='dashed', marker='o',markerfacecolor='blue', markersize=6)\n",
        "plt.xlabel('alpha')\n",
        "plt.ylabel('score')\n",
        "plt.grid(True)\n",
        "plt.title('score vs. alpha')\n",
        "plt.show()\n",
        "model1_para = opt_a\n",
        "print ('The optimaized alpha and score of Lasso linear is: '), opt_a, max_score\n"
      ],
      "execution_count": 25,
      "outputs": [
        {
          "output_type": "display_data",
          "data": {
            "image/png": "[encoded data removed]",
            "text/plain": [
              "<Figure size 432x288 with 1 Axes>"
            ]
          },
          "metadata": {
            "tags": [],
            "needs_background": "light"
          }
        },
        {
          "output_type": "stream",
          "text": [
            "The optimaized alpha and score of Lasso linear is: \n"
          ],
          "name": "stdout"
        },
        {
          "output_type": "execute_result",
          "data": {
            "text/plain": [
              "(None, 122.06107238906554, 0.36457853302954246)"
            ]
          },
          "metadata": {
            "tags": []
          },
          "execution_count": 25
        }
      ]
    },
    {
      "cell_type": "code",
      "metadata": {
        "id": "w6o_T8LK6tp3",
        "colab_type": "code",
        "colab": {
          "base_uri": "https://localhost:8080/",
          "height": 68
        },
        "outputId": "413138e3-7e9c-4bf1-f7e8-51e86ed5a921"
      },
      "source": [
        "# combine the validate data and training data, use the optimal alpha, re-train the model\n",
        "lasso_f = Lasso()\n",
        "lasso_f.set_params(alpha = opt_a)\n",
        "lasso_f.fit(model_train_x, model_train_y)\n"
      ],
      "execution_count": 26,
      "outputs": [
        {
          "output_type": "execute_result",
          "data": {
            "text/plain": [
              "Lasso(alpha=122.06107238906554, copy_X=True, fit_intercept=True, max_iter=1000,\n",
              "      normalize=False, positive=False, precompute=False, random_state=None,\n",
              "      selection='cyclic', tol=0.0001, warm_start=False)"
            ]
          },
          "metadata": {
            "tags": []
          },
          "execution_count": 26
        }
      ]
    },
    {
      "cell_type": "markdown",
      "metadata": {
        "id": "xwTJbv2oBvdm",
        "colab_type": "text"
      },
      "source": [
        "## 3.2 Ridge linear regression"
      ]
    },
    {
      "cell_type": "code",
      "metadata": {
        "id": "SbLyWw9U0ZO0",
        "colab_type": "code",
        "colab": {
          "base_uri": "https://localhost:8080/",
          "height": 329
        },
        "outputId": "0fae932f-293e-49c8-eb0a-dedfe54f50e9"
      },
      "source": [
        "# Use the same training data set as Lasso (linear features)\n",
        "lr_train, lr_validate = train_test_split(train, test_size=0.15, random_state = 0)\n",
        "\n",
        "alphas = np.logspace (-10, 3, num=150)\n",
        "# alphas= [0.000000001]\n",
        "scores = np.empty_like(alphas)\n",
        "opt_a = float('-inf')\n",
        "max_score = float('-inf')\n",
        "for i, a in enumerate(alphas):\n",
        "    ridge = Ridge()\n",
        "    ridge.set_params(alpha = a)\n",
        "    ridge.fit(lr_train_x, lr_train_y)\n",
        "    scores[i] = ridge.score(lr_validate_x, lr_validate_y)\n",
        "    if scores[i] > max_score:\n",
        "        max_score = scores[i]\n",
        "        opt_a = a\n",
        "        ridge_save = ridge\n",
        "plt.plot(alphas, scores, color='r', linestyle='dashed', marker='o',markerfacecolor='r', markersize=6)\n",
        "plt.xlabel('alpha')\n",
        "plt.ylabel('score')\n",
        "plt.grid(True)\n",
        "plt.title('score vs. alpha')\n",
        "plt.show()\n",
        "model3_para = opt_a\n",
        "print ('The optimaized alpha and score of Ridge linear is: '), opt_a, max_score"
      ],
      "execution_count": 27,
      "outputs": [
        {
          "output_type": "display_data",
          "data": {
            "image/png": "[encoded data removed]",
            "text/plain": [
              "<Figure size 432x288 with 1 Axes>"
            ]
          },
          "metadata": {
            "tags": [],
            "needs_background": "light"
          }
        },
        {
          "output_type": "stream",
          "text": [
            "The optimaized alpha and score of Ridge linear is: \n"
          ],
          "name": "stdout"
        },
        {
          "output_type": "execute_result",
          "data": {
            "text/plain": [
              "(None, 163.97026580002054, 0.35296043098491625)"
            ]
          },
          "metadata": {
            "tags": []
          },
          "execution_count": 27
        }
      ]
    },
    {
      "cell_type": "code",
      "metadata": {
        "id": "XxEqMw4iE9XZ",
        "colab_type": "code",
        "colab": {
          "base_uri": "https://localhost:8080/",
          "height": 51
        },
        "outputId": "0c2f2103-2295-4cff-f380-e9c781a5421e"
      },
      "source": [
        "# add the 15% validate data, use the optimal alpha, re-train the model\n",
        "\n",
        "ridge_f = Ridge()\n",
        "ridge_f.set_params(alpha = opt_a)\n",
        "ridge_f.fit(model_train_x, model_train_y)\n",
        "\n",
        "# ridge_f is the Ridge model (linear feature), to be tested with test data."
      ],
      "execution_count": 28,
      "outputs": [
        {
          "output_type": "execute_result",
          "data": {
            "text/plain": [
              "Ridge(alpha=163.97026580002054, copy_X=True, fit_intercept=True, max_iter=None,\n",
              "      normalize=False, random_state=None, solver='auto', tol=0.001)"
            ]
          },
          "metadata": {
            "tags": []
          },
          "execution_count": 28
        }
      ]
    },
    {
      "cell_type": "markdown",
      "metadata": {
        "id": "T8k96l4UFhoy",
        "colab_type": "text"
      },
      "source": [
        "##3.3 Random Forest"
      ]
    },
    {
      "cell_type": "code",
      "metadata": {
        "id": "jpHVKREP5FmB",
        "colab_type": "code",
        "colab": {
          "base_uri": "https://localhost:8080/",
          "height": 357
        },
        "outputId": "1314b0a3-cb27-4634-c972-75c46e719df9"
      },
      "source": [
        "from sklearn.ensemble import RandomForestRegressor\n",
        "from sklearn.model_selection import GridSearchCV\n",
        "rf=RandomForestRegressor(random_state=2,max_features='sqrt',n_jobs=-1)\n",
        "param_grid={'n_estimators':[57,58,59,60,61,62,63,64,65,66,67],'max_depth':[17,18,19,20,21,22,23]}\n",
        "clf=GridSearchCV(estimator=rf,param_grid=param_grid,cv=10,refit=True,n_jobs=-1,pre_dispatch='2*n_jobs')\n",
        "clf.fit(model_train_x,model_train_y)"
      ],
      "execution_count": 239,
      "outputs": [
        {
          "output_type": "execute_result",
          "data": {
            "text/plain": [
              "GridSearchCV(cv=10, error_score=nan,\n",
              "             estimator=RandomForestRegressor(bootstrap=True, ccp_alpha=0.0,\n",
              "                                             criterion='mse', max_depth=None,\n",
              "                                             max_features='sqrt',\n",
              "                                             max_leaf_nodes=None,\n",
              "                                             max_samples=None,\n",
              "                                             min_impurity_decrease=0.0,\n",
              "                                             min_impurity_split=None,\n",
              "                                             min_samples_leaf=1,\n",
              "                                             min_samples_split=2,\n",
              "                                             min_weight_fraction_leaf=0.0,\n",
              "                                             n_estimators=100, n_jobs=-1,\n",
              "                                             oob_score=False, random_state=2,\n",
              "                                             verbose=0, warm_start=False),\n",
              "             iid='deprecated', n_jobs=-1,\n",
              "             param_grid={'max_depth': [17, 18, 19, 20, 21, 22, 23],\n",
              "                         'n_estimators': [57, 58, 59, 60, 61, 62, 63, 64, 65,\n",
              "                                          66, 67]},\n",
              "             pre_dispatch='2*n_jobs', refit=True, return_train_score=False,\n",
              "             scoring=None, verbose=0)"
            ]
          },
          "metadata": {
            "tags": []
          },
          "execution_count": 239
        }
      ]
    },
    {
      "cell_type": "code",
      "metadata": {
        "id": "e6aNH8hemOZR",
        "colab_type": "code",
        "colab": {
          "base_uri": "https://localhost:8080/",
          "height": 1000
        },
        "outputId": "e1efc4b1-dca5-44c7-898a-5acc4c8f52db"
      },
      "source": [
        "result=clf.cv_results_\n",
        "print(result)\n",
        "max_depth=[17,18,19,20,21,22,23]\n",
        "n_estimators=[57,58,59,60,61,62,63,64,65,66,67]\n",
        "scores=clf.cv_results_['mean_test_score'].reshape(len(max_depth),len(n_estimators))\n",
        "plt.figure(1)\n",
        "plt.subplot(1,1,1)\n",
        "for i,j in enumerate(max_depth):\n",
        "  plt.plot(n_estimators,scores[i],'-o',label='max_depths is: '+str(j))\n",
        "plt.legend(bbox_to_anchor=(1.05, 1), loc='upper left', borderaxespad=0.)\n",
        "plt.xlabel('mean_test_score')\n",
        "plt.ylabel('n_estimators')\n",
        "plt.show()\n",
        "print('the best parameter for max_depth is: '+str(clf.best_params_['max_depth']))\n",
        "print('the best parameter for n_estimators is: '+str(clf.best_params_['n_estimators']))\n",
        "\n"
      ],
      "execution_count": 240,
      "outputs": [
        {
          "output_type": "stream",
          "text": [
            "{'mean_fit_time': array([0.54566197, 0.4465694 , 0.44545565, 0.46126552, 0.47287493,\n",
            "       0.47392335, 0.48527839, 0.52817004, 0.52820344, 0.55034201,\n",
            "       0.51635025, 0.45260615, 0.45469019, 0.47349608, 0.48303494,\n",
            "       0.49629703, 0.5367171 , 0.53082383, 0.52451885, 0.54204774,\n",
            "       0.57660553, 0.64140503, 0.5315393 , 0.53424783, 0.51907609,\n",
            "       0.49255037, 0.53669496, 0.52659898, 0.52710965, 0.54266136,\n",
            "       0.5312731 , 0.55388124, 0.56078672, 0.48186905, 0.48314683,\n",
            "       0.50309656, 0.52353003, 0.53522623, 0.59390283, 0.56399736,\n",
            "       0.54858949, 0.54996753, 0.57143459, 0.58085487, 0.53799741,\n",
            "       0.50499928, 0.53966467, 0.52073386, 0.52483556, 0.54026704,\n",
            "       0.54738648, 0.56310422, 0.57277708, 0.62540631, 0.58216112,\n",
            "       0.52429893, 0.52943585, 0.52365713, 0.53025842, 0.54381447,\n",
            "       0.55096514, 0.56289902, 0.57428286, 0.6004607 , 0.5943306 ,\n",
            "       0.60391514, 0.54421244, 0.51040239, 0.54859223, 0.53587155,\n",
            "       0.54777253, 0.62029498, 0.63666208, 0.64983001, 0.64212184,\n",
            "       0.62750411, 0.61018844]), 'std_fit_time': array([0.01069941, 0.01944228, 0.03270901, 0.00828281, 0.04136999,\n",
            "       0.02992167, 0.04047865, 0.03946065, 0.03429706, 0.01606719,\n",
            "       0.0559415 , 0.03922858, 0.00508403, 0.04565512, 0.04806259,\n",
            "       0.04256852, 0.03186982, 0.03707544, 0.03567802, 0.01857877,\n",
            "       0.05953715, 0.02657938, 0.03110092, 0.03139223, 0.04871299,\n",
            "       0.04606984, 0.02890516, 0.0456281 , 0.03668703, 0.04122195,\n",
            "       0.03743644, 0.03879246, 0.007227  , 0.0462907 , 0.04297968,\n",
            "       0.0502565 , 0.05682473, 0.02870283, 0.06225635, 0.03751216,\n",
            "       0.03660511, 0.05547382, 0.03380863, 0.03941884, 0.03590628,\n",
            "       0.05046995, 0.02986561, 0.0484932 , 0.0413806 , 0.05015097,\n",
            "       0.05705851, 0.01059651, 0.02812072, 0.04764083, 0.04337177,\n",
            "       0.03990179, 0.04498743, 0.05175909, 0.05003322, 0.02795253,\n",
            "       0.03548125, 0.04533283, 0.0325167 , 0.05649166, 0.05092631,\n",
            "       0.05396043, 0.01492926, 0.05191957, 0.03715286, 0.05994401,\n",
            "       0.02772382, 0.04379908, 0.02459888, 0.03672883, 0.02185114,\n",
            "       0.04608806, 0.04654238]), 'mean_score_time': array([0.1035867 , 0.10992951, 0.11431463, 0.11096396, 0.10867023,\n",
            "       0.11059213, 0.11088834, 0.10922127, 0.10913241, 0.10863774,\n",
            "       0.10953808, 0.10876129, 0.11203978, 0.11087186, 0.10763121,\n",
            "       0.10994346, 0.10732524, 0.10875716, 0.10891283, 0.11005633,\n",
            "       0.10623565, 0.10332065, 0.10612025, 0.1061681 , 0.10662854,\n",
            "       0.11194942, 0.10783689, 0.10944147, 0.1071286 , 0.10854211,\n",
            "       0.11065857, 0.11133635, 0.11042941, 0.11203587, 0.11024022,\n",
            "       0.110917  , 0.10922518, 0.10818923, 0.10501082, 0.10893688,\n",
            "       0.11076887, 0.11175983, 0.1091125 , 0.11035888, 0.110273  ,\n",
            "       0.10930376, 0.1095639 , 0.10897081, 0.11150088, 0.11081185,\n",
            "       0.11316111, 0.11175213, 0.10883937, 0.10891519, 0.11338921,\n",
            "       0.10949585, 0.10985556, 0.11147509, 0.11160231, 0.11133752,\n",
            "       0.11007876, 0.11444595, 0.11009707, 0.11074612, 0.11030364,\n",
            "       0.11311147, 0.1081413 , 0.11122041, 0.10679479, 0.1116924 ,\n",
            "       0.11018536, 0.10809929, 0.107478  , 0.10805869, 0.10824008,\n",
            "       0.11142771, 0.10986388]), 'std_score_time': array([0.00069339, 0.00165902, 0.00493141, 0.00450638, 0.00422534,\n",
            "       0.00418804, 0.0045822 , 0.00469085, 0.0057984 , 0.00344559,\n",
            "       0.00356925, 0.00419036, 0.00577593, 0.00582189, 0.00475352,\n",
            "       0.00639111, 0.0027897 , 0.00561744, 0.00390903, 0.00590952,\n",
            "       0.00321646, 0.00021958, 0.0045071 , 0.00325505, 0.00317493,\n",
            "       0.0057511 , 0.00490782, 0.00577675, 0.00428777, 0.00353476,\n",
            "       0.00510284, 0.0024927 , 0.00411312, 0.00267284, 0.00342244,\n",
            "       0.00557376, 0.0040943 , 0.00456064, 0.00362993, 0.0047266 ,\n",
            "       0.00514247, 0.00516657, 0.00382472, 0.00512803, 0.00408207,\n",
            "       0.00431488, 0.00528966, 0.00489226, 0.00535192, 0.00454565,\n",
            "       0.00508425, 0.00323583, 0.0057889 , 0.00599745, 0.00528986,\n",
            "       0.00463429, 0.00362661, 0.00536773, 0.00411687, 0.00433668,\n",
            "       0.00313254, 0.00524161, 0.00365654, 0.0049065 , 0.0039041 ,\n",
            "       0.00376578, 0.00490169, 0.00387292, 0.00299361, 0.00598907,\n",
            "       0.00531471, 0.00470405, 0.00481108, 0.00614271, 0.00533854,\n",
            "       0.00728301, 0.00376638]), 'param_max_depth': masked_array(data=[17, 17, 17, 17, 17, 17, 17, 17, 17, 17, 17, 18, 18, 18,\n",
            "                   18, 18, 18, 18, 18, 18, 18, 18, 19, 19, 19, 19, 19, 19,\n",
            "                   19, 19, 19, 19, 19, 20, 20, 20, 20, 20, 20, 20, 20, 20,\n",
            "                   20, 20, 21, 21, 21, 21, 21, 21, 21, 21, 21, 21, 21, 22,\n",
            "                   22, 22, 22, 22, 22, 22, 22, 22, 22, 22, 23, 23, 23, 23,\n",
            "                   23, 23, 23, 23, 23, 23, 23],\n",
            "             mask=[False, False, False, False, False, False, False, False,\n",
            "                   False, False, False, False, False, False, False, False,\n",
            "                   False, False, False, False, False, False, False, False,\n",
            "                   False, False, False, False, False, False, False, False,\n",
            "                   False, False, False, False, False, False, False, False,\n",
            "                   False, False, False, False, False, False, False, False,\n",
            "                   False, False, False, False, False, False, False, False,\n",
            "                   False, False, False, False, False, False, False, False,\n",
            "                   False, False, False, False, False, False, False, False,\n",
            "                   False, False, False, False, False],\n",
            "       fill_value='?',\n",
            "            dtype=object), 'param_n_estimators': masked_array(data=[57, 58, 59, 60, 61, 62, 63, 64, 65, 66, 67, 57, 58, 59,\n",
            "                   60, 61, 62, 63, 64, 65, 66, 67, 57, 58, 59, 60, 61, 62,\n",
            "                   63, 64, 65, 66, 67, 57, 58, 59, 60, 61, 62, 63, 64, 65,\n",
            "                   66, 67, 57, 58, 59, 60, 61, 62, 63, 64, 65, 66, 67, 57,\n",
            "                   58, 59, 60, 61, 62, 63, 64, 65, 66, 67, 57, 58, 59, 60,\n",
            "                   61, 62, 63, 64, 65, 66, 67],\n",
            "             mask=[False, False, False, False, False, False, False, False,\n",
            "                   False, False, False, False, False, False, False, False,\n",
            "                   False, False, False, False, False, False, False, False,\n",
            "                   False, False, False, False, False, False, False, False,\n",
            "                   False, False, False, False, False, False, False, False,\n",
            "                   False, False, False, False, False, False, False, False,\n",
            "                   False, False, False, False, False, False, False, False,\n",
            "                   False, False, False, False, False, False, False, False,\n",
            "                   False, False, False, False, False, False, False, False,\n",
            "                   False, False, False, False, False],\n",
            "       fill_value='?',\n",
            "            dtype=object), 'params': [{'max_depth': 17, 'n_estimators': 57}, {'max_depth': 17, 'n_estimators': 58}, {'max_depth': 17, 'n_estimators': 59}, {'max_depth': 17, 'n_estimators': 60}, {'max_depth': 17, 'n_estimators': 61}, {'max_depth': 17, 'n_estimators': 62}, {'max_depth': 17, 'n_estimators': 63}, {'max_depth': 17, 'n_estimators': 64}, {'max_depth': 17, 'n_estimators': 65}, {'max_depth': 17, 'n_estimators': 66}, {'max_depth': 17, 'n_estimators': 67}, {'max_depth': 18, 'n_estimators': 57}, {'max_depth': 18, 'n_estimators': 58}, {'max_depth': 18, 'n_estimators': 59}, {'max_depth': 18, 'n_estimators': 60}, {'max_depth': 18, 'n_estimators': 61}, {'max_depth': 18, 'n_estimators': 62}, {'max_depth': 18, 'n_estimators': 63}, {'max_depth': 18, 'n_estimators': 64}, {'max_depth': 18, 'n_estimators': 65}, {'max_depth': 18, 'n_estimators': 66}, {'max_depth': 18, 'n_estimators': 67}, {'max_depth': 19, 'n_estimators': 57}, {'max_depth': 19, 'n_estimators': 58}, {'max_depth': 19, 'n_estimators': 59}, {'max_depth': 19, 'n_estimators': 60}, {'max_depth': 19, 'n_estimators': 61}, {'max_depth': 19, 'n_estimators': 62}, {'max_depth': 19, 'n_estimators': 63}, {'max_depth': 19, 'n_estimators': 64}, {'max_depth': 19, 'n_estimators': 65}, {'max_depth': 19, 'n_estimators': 66}, {'max_depth': 19, 'n_estimators': 67}, {'max_depth': 20, 'n_estimators': 57}, {'max_depth': 20, 'n_estimators': 58}, {'max_depth': 20, 'n_estimators': 59}, {'max_depth': 20, 'n_estimators': 60}, {'max_depth': 20, 'n_estimators': 61}, {'max_depth': 20, 'n_estimators': 62}, {'max_depth': 20, 'n_estimators': 63}, {'max_depth': 20, 'n_estimators': 64}, {'max_depth': 20, 'n_estimators': 65}, {'max_depth': 20, 'n_estimators': 66}, {'max_depth': 20, 'n_estimators': 67}, {'max_depth': 21, 'n_estimators': 57}, {'max_depth': 21, 'n_estimators': 58}, {'max_depth': 21, 'n_estimators': 59}, {'max_depth': 21, 'n_estimators': 60}, {'max_depth': 21, 'n_estimators': 61}, {'max_depth': 21, 'n_estimators': 62}, {'max_depth': 21, 'n_estimators': 63}, {'max_depth': 21, 'n_estimators': 64}, {'max_depth': 21, 'n_estimators': 65}, {'max_depth': 21, 'n_estimators': 66}, {'max_depth': 21, 'n_estimators': 67}, {'max_depth': 22, 'n_estimators': 57}, {'max_depth': 22, 'n_estimators': 58}, {'max_depth': 22, 'n_estimators': 59}, {'max_depth': 22, 'n_estimators': 60}, {'max_depth': 22, 'n_estimators': 61}, {'max_depth': 22, 'n_estimators': 62}, {'max_depth': 22, 'n_estimators': 63}, {'max_depth': 22, 'n_estimators': 64}, {'max_depth': 22, 'n_estimators': 65}, {'max_depth': 22, 'n_estimators': 66}, {'max_depth': 22, 'n_estimators': 67}, {'max_depth': 23, 'n_estimators': 57}, {'max_depth': 23, 'n_estimators': 58}, {'max_depth': 23, 'n_estimators': 59}, {'max_depth': 23, 'n_estimators': 60}, {'max_depth': 23, 'n_estimators': 61}, {'max_depth': 23, 'n_estimators': 62}, {'max_depth': 23, 'n_estimators': 63}, {'max_depth': 23, 'n_estimators': 64}, {'max_depth': 23, 'n_estimators': 65}, {'max_depth': 23, 'n_estimators': 66}, {'max_depth': 23, 'n_estimators': 67}], 'split0_test_score': array([0.58967267, 0.5933831 , 0.59480182, 0.59640195, 0.5991447 ,\n",
            "       0.59727495, 0.60138473, 0.60219474, 0.60812835, 0.60694705,\n",
            "       0.60586286, 0.59289187, 0.58624336, 0.58901739, 0.59039872,\n",
            "       0.5900001 , 0.58968819, 0.59313389, 0.59062003, 0.59203712,\n",
            "       0.59093578, 0.5830092 , 0.61502044, 0.61369847, 0.61175137,\n",
            "       0.61369931, 0.61630897, 0.61447265, 0.61680798, 0.62100983,\n",
            "       0.62679923, 0.62782971, 0.62739023, 0.54402337, 0.54426248,\n",
            "       0.54801584, 0.54589649, 0.5467178 , 0.54608123, 0.53883529,\n",
            "       0.53962819, 0.53537213, 0.53892987, 0.54384345, 0.55403449,\n",
            "       0.55211586, 0.55618985, 0.56110726, 0.56632193, 0.56569149,\n",
            "       0.55970601, 0.56403638, 0.56760488, 0.56821682, 0.56102092,\n",
            "       0.59786691, 0.59762763, 0.59504205, 0.59850191, 0.6013677 ,\n",
            "       0.59956486, 0.60170289, 0.60010092, 0.60024441, 0.59610746,\n",
            "       0.59621599, 0.56649381, 0.55363193, 0.55553824, 0.56027254,\n",
            "       0.56200695, 0.5601596 , 0.55595182, 0.55831988, 0.55984714,\n",
            "       0.5516626 , 0.5422424 ]), 'split1_test_score': array([0.35235789, 0.34714506, 0.34748124, 0.35376241, 0.36245918,\n",
            "       0.36880129, 0.36417721, 0.36749876, 0.37031133, 0.36644182,\n",
            "       0.36978647, 0.3410472 , 0.3370288 , 0.34050248, 0.34193764,\n",
            "       0.34908356, 0.35270982, 0.36254798, 0.36260047, 0.36304929,\n",
            "       0.35941996, 0.35547984, 0.30236426, 0.29837467, 0.3135791 ,\n",
            "       0.31249117, 0.31900022, 0.31580627, 0.32523532, 0.32716652,\n",
            "       0.33433309, 0.33425661, 0.33616083, 0.38554968, 0.38264578,\n",
            "       0.38307548, 0.38229378, 0.37942167, 0.38029588, 0.38061252,\n",
            "       0.37596722, 0.37293467, 0.37092689, 0.37227973, 0.37690109,\n",
            "       0.37679135, 0.37945642, 0.37251396, 0.37755738, 0.37915269,\n",
            "       0.37527137, 0.37483019, 0.37443766, 0.37038599, 0.37230577,\n",
            "       0.29289459, 0.29983374, 0.30475424, 0.30714459, 0.31427089,\n",
            "       0.31669096, 0.31604468, 0.3218359 , 0.32596967, 0.32292637,\n",
            "       0.32553874, 0.3819795 , 0.37709099, 0.37346496, 0.37406496,\n",
            "       0.37170494, 0.36968309, 0.36737673, 0.37254942, 0.3692229 ,\n",
            "       0.36763176, 0.36915397]), 'split2_test_score': array([0.49923649, 0.49293569, 0.48856228, 0.48902308, 0.48775805,\n",
            "       0.4870804 , 0.49141593, 0.49255991, 0.49336333, 0.49103694,\n",
            "       0.4878224 , 0.45793025, 0.45455311, 0.46757724, 0.46902518,\n",
            "       0.46576581, 0.46913389, 0.46609869, 0.46750506, 0.4670596 ,\n",
            "       0.46474124, 0.46205877, 0.40451021, 0.40518993, 0.40364909,\n",
            "       0.40402139, 0.40564803, 0.40550456, 0.40844453, 0.40359508,\n",
            "       0.40305836, 0.40621921, 0.40121505, 0.49675051, 0.49676338,\n",
            "       0.49653986, 0.49314427, 0.49049899, 0.48867755, 0.48719096,\n",
            "       0.48645415, 0.48580084, 0.48348357, 0.47759739, 0.45494573,\n",
            "       0.45361644, 0.45099608, 0.44689988, 0.44272674, 0.44277468,\n",
            "       0.4422452 , 0.44165308, 0.44257966, 0.4424096 , 0.44032605,\n",
            "       0.48229464, 0.47822356, 0.47929021, 0.47803956, 0.47736508,\n",
            "       0.48399229, 0.48067217, 0.47956038, 0.48103581, 0.47811299,\n",
            "       0.47562389, 0.44607901, 0.44466793, 0.44425831, 0.44046007,\n",
            "       0.43854359, 0.43850825, 0.44591143, 0.44470887, 0.44613657,\n",
            "       0.44502766, 0.44204099]), 'split3_test_score': array([0.66377591, 0.66302652, 0.65890071, 0.65927042, 0.66528153,\n",
            "       0.66678702, 0.67249999, 0.67221783, 0.67227482, 0.67342462,\n",
            "       0.66952321, 0.6339219 , 0.63269154, 0.62752304, 0.6221286 ,\n",
            "       0.63079276, 0.63476351, 0.64426271, 0.64292431, 0.64077937,\n",
            "       0.64238673, 0.63899781, 0.66263425, 0.65988055, 0.65697016,\n",
            "       0.65509964, 0.66294611, 0.66486197, 0.66166821, 0.66434523,\n",
            "       0.66685006, 0.66923916, 0.66413994, 0.62327138, 0.62140783,\n",
            "       0.61768425, 0.61784244, 0.62498677, 0.6237624 , 0.62508899,\n",
            "       0.62306918, 0.62265757, 0.62128541, 0.61815655, 0.6441667 ,\n",
            "       0.64541017, 0.64096274, 0.63994461, 0.64825796, 0.65246888,\n",
            "       0.65546611, 0.65990081, 0.65690056, 0.66104368, 0.65592069,\n",
            "       0.64499755, 0.64398162, 0.64434708, 0.64517927, 0.65293416,\n",
            "       0.65704688, 0.66371667, 0.66587309, 0.66534084, 0.66692954,\n",
            "       0.66188948, 0.66420755, 0.66183641, 0.65740771, 0.65370344,\n",
            "       0.65829348, 0.66310877, 0.66883   , 0.67084473, 0.67233992,\n",
            "       0.67114307, 0.66667367]), 'split4_test_score': array([0.45848439, 0.45482861, 0.45270255, 0.45264842, 0.44828329,\n",
            "       0.44553725, 0.44588688, 0.44440381, 0.44308727, 0.44340838,\n",
            "       0.44017337, 0.44044566, 0.44276296, 0.44158685, 0.44184281,\n",
            "       0.44350911, 0.44186149, 0.44096518, 0.43848321, 0.43527487,\n",
            "       0.43796573, 0.4348176 , 0.47898399, 0.47782645, 0.47461396,\n",
            "       0.47514053, 0.47223478, 0.46877667, 0.46582781, 0.46533656,\n",
            "       0.46353382, 0.46684796, 0.46460851, 0.44613556, 0.44864614,\n",
            "       0.45505417, 0.45439076, 0.45656593, 0.45698397, 0.45414518,\n",
            "       0.45385338, 0.45645449, 0.45941585, 0.45688345, 0.47519974,\n",
            "       0.47294621, 0.46893424, 0.46870633, 0.46945832, 0.46752585,\n",
            "       0.47121579, 0.4677135 , 0.47116518, 0.46803971, 0.46707972,\n",
            "       0.48561571, 0.49040968, 0.48987306, 0.49032192, 0.49130753,\n",
            "       0.48879209, 0.4929221 , 0.48914668, 0.48710207, 0.49147041,\n",
            "       0.48952008, 0.44399657, 0.44339242, 0.44427947, 0.45978688,\n",
            "       0.46226768, 0.45910804, 0.45690023, 0.45591434, 0.46206911,\n",
            "       0.4602157 , 0.45956753]), 'split5_test_score': array([0.49739272, 0.50309626, 0.49951435, 0.49898334, 0.49626226,\n",
            "       0.49634051, 0.49439949, 0.50071281, 0.50560925, 0.50726705,\n",
            "       0.50337999, 0.54561153, 0.54011442, 0.53760465, 0.53097874,\n",
            "       0.52894019, 0.5289866 , 0.5233521 , 0.52289889, 0.52603801,\n",
            "       0.52480787, 0.52197734, 0.57404264, 0.57767671, 0.57372615,\n",
            "       0.57274982, 0.57102367, 0.56978644, 0.56420698, 0.5607713 ,\n",
            "       0.5644406 , 0.56197659, 0.55936318, 0.57829335, 0.58062895,\n",
            "       0.57838862, 0.56995491, 0.56638998, 0.56230948, 0.55878538,\n",
            "       0.55528089, 0.55440122, 0.56391986, 0.56154307, 0.57590714,\n",
            "       0.5781644 , 0.57697883, 0.57342035, 0.57124753, 0.57353314,\n",
            "       0.56909835, 0.56829165, 0.57062569, 0.56787287, 0.5688754 ,\n",
            "       0.56388227, 0.56074653, 0.5594075 , 0.55770387, 0.55414105,\n",
            "       0.555567  , 0.55344362, 0.55132219, 0.54426674, 0.54446608,\n",
            "       0.54240354, 0.53503583, 0.52923653, 0.52674288, 0.52282759,\n",
            "       0.52069398, 0.51974078, 0.51680034, 0.51755848, 0.51372676,\n",
            "       0.52338005, 0.51645127]), 'split6_test_score': array([0.65358426, 0.65069288, 0.6577448 , 0.65524157, 0.65360154,\n",
            "       0.65880946, 0.65993336, 0.66145521, 0.66515228, 0.66275645,\n",
            "       0.66563995, 0.68491842, 0.68388455, 0.67900555, 0.67900206,\n",
            "       0.67646752, 0.68067311, 0.67612513, 0.67843514, 0.67810563,\n",
            "       0.68138712, 0.67971839, 0.64536923, 0.6458862 , 0.64573728,\n",
            "       0.645066  , 0.64100389, 0.64598214, 0.64274951, 0.64444167,\n",
            "       0.64292423, 0.64391398, 0.64148192, 0.67949531, 0.67831757,\n",
            "       0.67737406, 0.67756208, 0.67334467, 0.67763687, 0.67621407,\n",
            "       0.67929503, 0.67920524, 0.67843547, 0.6792047 , 0.60332152,\n",
            "       0.60125753, 0.59702213, 0.6053622 , 0.60303603, 0.6086108 ,\n",
            "       0.60771188, 0.60778677, 0.60335092, 0.59776222, 0.60227619,\n",
            "       0.66231759, 0.65995012, 0.66118742, 0.65738359, 0.65713737,\n",
            "       0.66257153, 0.66240311, 0.66274363, 0.66393604, 0.66010351,\n",
            "       0.66358685, 0.67517951, 0.6722178 , 0.6728691 , 0.67448542,\n",
            "       0.67070223, 0.67578593, 0.67104511, 0.66960258, 0.66780618,\n",
            "       0.66551963, 0.66787551]), 'split7_test_score': array([0.67750829, 0.6783185 , 0.67581071, 0.67381722, 0.67402556,\n",
            "       0.67739117, 0.68035101, 0.68439932, 0.68224645, 0.68000727,\n",
            "       0.67699587, 0.66641252, 0.66221587, 0.65922626, 0.65460193,\n",
            "       0.65447561, 0.6563761 , 0.65206565, 0.65482449, 0.65407133,\n",
            "       0.65817597, 0.65801426, 0.65257694, 0.65208556, 0.64796486,\n",
            "       0.6461527 , 0.64570474, 0.64463921, 0.64108899, 0.64826728,\n",
            "       0.65258431, 0.64998176, 0.64823071, 0.65693953, 0.65748341,\n",
            "       0.6545918 , 0.65639836, 0.65679149, 0.65719441, 0.65172297,\n",
            "       0.65507586, 0.65767583, 0.65795157, 0.66011489, 0.61953405,\n",
            "       0.62389977, 0.62642893, 0.63091268, 0.63202729, 0.63316205,\n",
            "       0.62869336, 0.6333006 , 0.63544635, 0.63450482, 0.63691062,\n",
            "       0.64770142, 0.64868988, 0.64842947, 0.65230713, 0.65449392,\n",
            "       0.65602611, 0.65483341, 0.66701974, 0.66872204, 0.66620731,\n",
            "       0.66396308, 0.66040132, 0.65983737, 0.65902356, 0.65424396,\n",
            "       0.65458014, 0.65537951, 0.65039969, 0.65079114, 0.65112066,\n",
            "       0.65459025, 0.6648763 ]), 'split8_test_score': array([0.18345844, 0.1855174 , 0.18567943, 0.18330313, 0.17125541,\n",
            "       0.16319652, 0.17398641, 0.17391748, 0.17623673, 0.17289738,\n",
            "       0.18306458, 0.14864256, 0.14629581, 0.1404775 , 0.14211209,\n",
            "       0.13424854, 0.12410592, 0.12567832, 0.13654298, 0.13735269,\n",
            "       0.14325887, 0.14944449, 0.11419355, 0.11747899, 0.1156958 ,\n",
            "       0.11631145, 0.10639675, 0.10081127, 0.11513816, 0.11875192,\n",
            "       0.11594444, 0.11146145, 0.11720134, 0.16076958, 0.16712434,\n",
            "       0.16468369, 0.16420854, 0.15432968, 0.15021344, 0.15644705,\n",
            "       0.16394174, 0.16876494, 0.16312572, 0.17038995, 0.18622371,\n",
            "       0.18581128, 0.19052541, 0.19225036, 0.18139295, 0.17808608,\n",
            "       0.18339932, 0.18990165, 0.18067285, 0.17441423, 0.17954896,\n",
            "       0.1443633 , 0.13582857, 0.13390632, 0.13744761, 0.12888278,\n",
            "       0.12515399, 0.13161208, 0.14076021, 0.14081007, 0.14259765,\n",
            "       0.14933504, 0.10427413, 0.11445837, 0.11200348, 0.10610371,\n",
            "       0.09702337, 0.09248754, 0.09843677, 0.10603284, 0.11015475,\n",
            "       0.10665168, 0.11800795]), 'split9_test_score': array([0.41280596, 0.4235572 , 0.42531477, 0.42125102, 0.42055022,\n",
            "       0.42309563, 0.42431577, 0.42184325, 0.41079152, 0.41539952,\n",
            "       0.41786379, 0.40376071, 0.40622646, 0.41128959, 0.40217797,\n",
            "       0.40520135, 0.40361514, 0.40790132, 0.40986143, 0.41387352,\n",
            "       0.41540546, 0.41391784, 0.42571653, 0.42400871, 0.42386761,\n",
            "       0.42336291, 0.4228348 , 0.42597038, 0.43256736, 0.43376806,\n",
            "       0.43382247, 0.43560259, 0.43104377, 0.4332029 , 0.42129793,\n",
            "       0.42288927, 0.42520134, 0.42455145, 0.42487541, 0.40778183,\n",
            "       0.40566024, 0.40557092, 0.39910856, 0.39803517, 0.44896708,\n",
            "       0.44145852, 0.44451666, 0.44468183, 0.44466619, 0.44667058,\n",
            "       0.45125408, 0.45717918, 0.45331648, 0.44986321, 0.44508688,\n",
            "       0.41596392, 0.41734976, 0.41808508, 0.4197161 , 0.42317952,\n",
            "       0.42180001, 0.42391096, 0.42968423, 0.43316469, 0.42299521,\n",
            "       0.42110164, 0.42864989, 0.43059361, 0.43499517, 0.43569634,\n",
            "       0.43382678, 0.43225743, 0.4364864 , 0.4372473 , 0.4345876 ,\n",
            "       0.43601513, 0.4328449 ]), 'mean_test_score': array([0.4988277 , 0.49925012, 0.49865127, 0.49837026, 0.49786217,\n",
            "       0.49843142, 0.50083508, 0.50212031, 0.50272013, 0.50195865,\n",
            "       0.50201125, 0.49155826, 0.48920169, 0.48938106, 0.48742057,\n",
            "       0.48784846, 0.48819138, 0.4892131 , 0.4904696 , 0.49076414,\n",
            "       0.49184847, 0.48974355, 0.4875412 , 0.48721062, 0.48675554,\n",
            "       0.48640949, 0.4863102 , 0.48566115, 0.48737348, 0.48874534,\n",
            "       0.49042906, 0.4907329 , 0.48908355, 0.50044311, 0.49985778,\n",
            "       0.4998297 , 0.49868929, 0.49735984, 0.49680306, 0.49368242,\n",
            "       0.49382259, 0.49388378, 0.49365828, 0.49380484, 0.49392013,\n",
            "       0.49314715, 0.49320113, 0.49357995, 0.49366923, 0.49476762,\n",
            "       0.49440615, 0.49645938, 0.49561002, 0.49345132, 0.49293512,\n",
            "       0.49378979, 0.49326411, 0.49343224, 0.49437455, 0.495508  ,\n",
            "       0.49672057, 0.49812617, 0.5008047 , 0.50105924, 0.49919165,\n",
            "       0.49891783, 0.49062971, 0.48869634, 0.48805829, 0.48816449,\n",
            "       0.48696431, 0.48662189, 0.48681385, 0.48835696, 0.48870116,\n",
            "       0.48818375, 0.48797345]), 'std_test_score': array([0.14875409, 0.14832587, 0.14832965, 0.1480519 , 0.1507055 ,\n",
            "       0.15285754, 0.15219309, 0.1527319 , 0.15319919, 0.15352348,\n",
            "       0.15051833, 0.1590963 , 0.1585613 , 0.15776484, 0.15664814,\n",
            "       0.15794654, 0.16104683, 0.15973033, 0.15748332, 0.15701432,\n",
            "       0.15674496, 0.15484923, 0.17058902, 0.1701559 , 0.16796098,\n",
            "       0.16760468, 0.16960942, 0.1714621 , 0.16593707, 0.16644201,\n",
            "       0.16760489, 0.16841745, 0.16632379, 0.14685377, 0.14601985,\n",
            "       0.14551505, 0.14532422, 0.14780747, 0.14892542, 0.14742328,\n",
            "       0.14666912, 0.14585424, 0.1479663 , 0.14654387, 0.13149826,\n",
            "       0.13240462, 0.13062886, 0.13204463, 0.13523298, 0.13697806,\n",
            "       0.13516418, 0.13479734, 0.13676777, 0.13859046, 0.13716388,\n",
            "       0.16106296, 0.16164022, 0.16135881, 0.16044278, 0.16237822,\n",
            "       0.16399375, 0.16311907, 0.16149867, 0.16092667, 0.16059386,\n",
            "       0.15850181, 0.16426015, 0.16083647, 0.16103198, 0.16153178,\n",
            "       0.16404091, 0.16642068, 0.1642295 , 0.16230747, 0.16152141,\n",
            "       0.1622798 , 0.16009298]), 'rank_test_score': array([14, 11, 16, 18, 20, 17,  6,  2,  1,  4,  3, 46, 55, 53, 68, 66, 61,\n",
            "       54, 50, 47, 45, 52, 67, 70, 73, 75, 76, 77, 69, 57, 51, 48, 56,  8,\n",
            "        9, 10, 15, 21, 22, 35, 32, 31, 37, 33, 30, 43, 42, 38, 36, 27, 28,\n",
            "       24, 25, 39, 44, 34, 41, 40, 29, 26, 23, 19,  7,  5, 12, 13, 49, 59,\n",
            "       64, 63, 71, 74, 72, 60, 58, 62, 65], dtype=int32)}\n"
          ],
          "name": "stdout"
        },
        {
          "output_type": "display_data",
          "data": {
            "image/png": "[encoded data removed]",
            "text/plain": [
              "<Figure size 432x288 with 1 Axes>"
            ]
          },
          "metadata": {
            "tags": [],
            "needs_background": "light"
          }
        },
        {
          "output_type": "stream",
          "text": [
            "the best parameter for max_depth is: 17\n",
            "the best parameter for n_estimators is: 65\n"
          ],
          "name": "stdout"
        }
      ]
    },
    {
      "cell_type": "markdown",
      "metadata": {
        "id": "4hOWiqrAGBT3",
        "colab_type": "text"
      },
      "source": [
        "# Part 4: Model Evaluation"
      ]
    },
    {
      "cell_type": "markdown",
      "metadata": {
        "id": "OTvNuvgHgopJ",
        "colab_type": "text"
      },
      "source": [
        "## 4.1: Evaluate all models"
      ]
    },
    {
      "cell_type": "code",
      "metadata": {
        "id": "hqKQ3G8r2Y7m",
        "colab_type": "code",
        "colab": {}
      },
      "source": [
        "train_x = model_train_x\n",
        "train_y = model_train_y\n",
        "test_x = model_test_x\n",
        "test_y = model_test_y"
      ],
      "execution_count": 241,
      "outputs": []
    },
    {
      "cell_type": "code",
      "metadata": {
        "id": "K3ln6hSBwwqg",
        "colab_type": "code",
        "colab": {
          "base_uri": "https://localhost:8080/",
          "height": 68
        },
        "outputId": "6c215361-65fc-40c6-95ae-01d1064420ed"
      },
      "source": [
        "#For lasso\n",
        "from sklearn.linear_model import Lasso\n",
        "from sklearn.metrics import  mean_squared_error\n",
        "lasso=Lasso(alpha=model1_para)\n",
        "lasso.fit(train_x,train_y)\n",
        "pred_y=lasso.predict(test_x)\n",
        "lasso_score=lasso.score(test_x,test_y)\n",
        "MSE_lasso=mean_squared_error(test_y,pred_y)\n",
        "RMSE_lasso=np.sqrt(MSE_lasso)\n",
        "print ('lasso score: ', lasso_score)\n",
        "print ('Mean square error of lasso: ', MSE_lasso)\n",
        "print ('Root mean squared error of lasso:', RMSE_lasso)"
      ],
      "execution_count": 242,
      "outputs": [
        {
          "output_type": "stream",
          "text": [
            "lasso score:  0.09954927178753703\n",
            "Mean square error of lasso:  238953191.99910036\n",
            "Root mean squared error of lasso: 15458.110880670392\n"
          ],
          "name": "stdout"
        }
      ]
    },
    {
      "cell_type": "code",
      "metadata": {
        "id": "kGt2OK7dPo6V",
        "colab_type": "code",
        "colab": {
          "base_uri": "https://localhost:8080/",
          "height": 68
        },
        "outputId": "802eeb49-e2f7-41d0-cdfe-8744df003043"
      },
      "source": [
        "#for ridge\n",
        "from sklearn.metrics import  mean_squared_error\n",
        "ridge=Ridge(alpha=model3_para)\n",
        "ridge.fit(train_x,train_y)\n",
        "pred_y=ridge.predict(test_x)\n",
        "ridge_score=ridge.score(test_x,test_y)\n",
        "MSE_ridge=mean_squared_error(test_y,pred_y)\n",
        "RMSE_ridge=np.sqrt(MSE_ridge)\n",
        "print ('ridge score: ', ridge_score)\n",
        "print ('Mean square error of ridge: ', MSE_ridge)\n",
        "print ('Root mean squared error of ridge:', RMSE_ridge)"
      ],
      "execution_count": 243,
      "outputs": [
        {
          "output_type": "stream",
          "text": [
            "ridge score:  0.11371374943726809\n",
            "Mean square error of ridge:  235194355.4060952\n",
            "Root mean squared error of ridge: 15336.047580980414\n"
          ],
          "name": "stdout"
        }
      ]
    },
    {
      "cell_type": "code",
      "metadata": {
        "id": "uhuoqrdCRcDK",
        "colab_type": "code",
        "colab": {
          "base_uri": "https://localhost:8080/",
          "height": 68
        },
        "outputId": "d872a584-71d5-4813-98fd-0c4e69c7485b"
      },
      "source": [
        "#For randomforest regression\n",
        "from sklearn.ensemble import RandomForestRegressor\n",
        "rf=RandomForestRegressor(n_estimators=clf.best_params_['n_estimators'],max_depth=clf.best_params_['max_depth'],max_features='sqrt',random_state=2,n_jobs=-1)\n",
        "rf.fit(train_x,train_y)\n",
        "pred_y=rf.predict(test_x)\n",
        "rf_score=rf.score(test_x,test_y)\n",
        "MSE_rf=mean_squared_error(test_y,pred_y)\n",
        "RMSE_rf=np.sqrt(MSE_rf)\n",
        "print ('rf score: ', rf_score)\n",
        "print ('Mean square error of rf: ', MSE_rf)\n",
        "print ('Root mean squared error of rf:', RMSE_rf)\n"
      ],
      "execution_count": 244,
      "outputs": [
        {
          "output_type": "stream",
          "text": [
            "rf score:  0.5559081807121882\n",
            "Mean square error of rf:  117848933.24498677\n",
            "Root mean squared error of rf: 10855.824853275166\n"
          ],
          "name": "stdout"
        }
      ]
    },
    {
      "cell_type": "markdown",
      "metadata": {
        "id": "KOaL7VjchKND",
        "colab_type": "text"
      },
      "source": [
        "## 4.2 Model comparison "
      ]
    },
    {
      "cell_type": "code",
      "metadata": {
        "id": "4GS6BG2PS2oE",
        "colab_type": "code",
        "colab": {
          "base_uri": "https://localhost:8080/",
          "height": 832
        },
        "outputId": "fb9d3979-54bd-43e5-aa44-11ae4bc43b7f"
      },
      "source": [
        "lst_score = [lasso_score, ridge_score, rf_score]\n",
        "MSE_lst =  [MSE_lasso, MSE_ridge, MSE_rf]\n",
        "RMSE_lst =  [RMSE_lasso, RMSE_ridge, RMSE_rf]\n",
        "model_lst = ['Lasso_linear', 'Ridge linear', 'Random forest']\n",
        "\n",
        "plt.figure(1)\n",
        "plt.plot(model_lst, lst_score, 'ro')\n",
        "plt.legend(['r-squre / score'])\n",
        "plt.xlabel('model names',fontsize =16)\n",
        "plt.ylabel('score / r square', fontsize =16)\n",
        "plt.grid(True)\n",
        "plt.show()\n",
        "\n",
        "plt.figure(2)\n",
        "plt.plot(model_lst, MSE_lst, 'g^')\n",
        "plt.legend(['mean square error (MSE)'])\n",
        "plt.xlabel('model names', fontsize =16)\n",
        "plt.ylabel('mean square error', fontsize =16)\n",
        "plt.grid(True)\n",
        "plt.show()\n",
        "\n",
        "plt.figure(3)\n",
        "plt.plot(model_lst, RMSE_lst, 'bs')\n",
        "plt.legend(['root mean square error (RMSE)'])\n",
        "plt.xlabel('model names', fontsize =16)\n",
        "plt.ylabel('root mean square error', fontsize =16)\n",
        "plt.grid(True)\n",
        "plt.show()"
      ],
      "execution_count": 245,
      "outputs": [
        {
          "output_type": "display_data",
          "data": {
            "image/png": "[encoded data removed]",
            "text/plain": [
              "<Figure size 432x288 with 1 Axes>"
            ]
          },
          "metadata": {
            "tags": [],
            "needs_background": "light"
          }
        },
        {
          "output_type": "display_data",
          "data": {
            "image/png": "[encoded data removed]",
            "text/plain": [
              "<Figure size 432x288 with 1 Axes>"
            ]
          },
          "metadata": {
            "tags": [],
            "needs_background": "light"
          }
        },
        {
          "output_type": "display_data",
          "data": {
            "image/png": "[encoded data removed]",
            "text/plain": [
              "<Figure size 432x288 with 1 Axes>"
            ]
          },
          "metadata": {
            "tags": [],
            "needs_background": "light"
          }
        }
      ]
    },
    {
      "cell_type": "markdown",
      "metadata": {
        "id": "ndOUSyTvhb7k",
        "colab_type": "text"
      },
      "source": [
        "## 4.3 Feature importance"
      ]
    },
    {
      "cell_type": "markdown",
      "metadata": {
        "id": "be1mLaDvUOgD",
        "colab_type": "text"
      },
      "source": [
        "According to MSE,RMSE and R square, the Random Forest Regression has the best performance"
      ]
    },
    {
      "cell_type": "code",
      "metadata": {
        "id": "o2AyiWRnVVJj",
        "colab_type": "code",
        "cellView": "code",
        "colab": {
          "base_uri": "https://localhost:8080/",
          "height": 407
        },
        "outputId": "fac7974d-c8bd-4200-ec81-3cc4b66af3fb"
      },
      "source": [
        "importances = rf.feature_importances_\n",
        "feature_name = train_x.columns.values\n",
        "indices = np.argsort(importances)[::-1]\n",
        "plt.figure(1)\n",
        "plt.bar(feature_name[indices[:20]], importances[indices[:20]])\n",
        "plt.xticks(rotation=90)\n",
        "plt.show()"
      ],
      "execution_count": 246,
      "outputs": [
        {
          "output_type": "display_data",
          "data": {
            "image/png": "[encoded data removed]",
            "text/plain": [
              "<Figure size 432x288 with 1 Axes>"
            ]
          },
          "metadata": {
            "tags": [],
            "needs_background": "light"
          }
        }
      ]
    },
    {
      "cell_type": "code",
      "metadata": {
        "id": "3zxQ9pe7SFQY",
        "colab_type": "code",
        "colab": {}
      },
      "source": [
        ""
      ],
      "execution_count": 246,
      "outputs": []
    }
  ]
}